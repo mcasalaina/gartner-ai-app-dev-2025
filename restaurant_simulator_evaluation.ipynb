{
 "cells": [
  {
   "cell_type": "markdown",
   "metadata": {},
   "source": [
    "# Restaurant Agent Simulator-Based Evaluation\n",
    "\n",
    "This notebook evaluates the Scheibmeir's restaurant agent using Azure AI Evaluation's simulator capabilities to generate contextually relevant test queries automatically.\n",
    "Instead of using pre-defined queries, it uses AI to simulate realistic customer interactions."
   ]
  },
  {
   "cell_type": "markdown",
   "metadata": {},
   "source": [
    "## Setup and Configuration"
   ]
  },
  {
   "cell_type": "code",
   "execution_count": null,
   "metadata": {},
   "outputs": [],
   "source": [
    "import os\n",
    "import json\n",
    "import asyncio\n",
    "from dotenv import load_dotenv\n",
    "from azure.ai.evaluation.simulator import Simulator\n",
    "from azure.ai.evaluation import AzureOpenAIModelConfiguration\n",
    "from azure.ai.agents import AgentsClient\n",
    "from azure.identity import DefaultAzureCredential\n",
    "\n",
    "# Load environment variables from .env file\n",
    "load_dotenv()\n",
    "\n",
    "print(\"Libraries imported successfully!\")"
   ]
  },
  {
   "cell_type": "code",
   "execution_count": null,
   "metadata": {},
   "outputs": [],
   "source": [
    "# Configuration from environment variables - using RESTAURANT settings only\n",
    "RESTAURANT_ASSISTANT_ID = os.getenv(\"RESTAURANT_ASSISTANT_ID\")\n",
    "RESTAURANT_ASSISTANT_MODEL = os.getenv(\"RESTAURANT_ASSISTANT_MODEL\")\n",
    "RESTAURANT_ASSISTANT_PROJECT = os.getenv(\"RESTAURANT_ASSISTANT_PROJECT\")\n",
    "\n",
    "print(f\"Restaurant Assistant ID: {RESTAURANT_ASSISTANT_ID}\")\n",
    "print(f\"Restaurant Assistant Model: {RESTAURANT_ASSISTANT_MODEL}\")\n",
    "print(f\"Restaurant Project: {RESTAURANT_ASSISTANT_PROJECT}\")"
   ]
  },
  {
   "cell_type": "markdown",
   "metadata": {},
   "source": [
    "## Initialize Clients"
   ]
  },
  {
   "cell_type": "code",
   "execution_count": null,
   "metadata": {},
   "outputs": [],
   "source": [
    "# Initialize Azure credential and agents client\n",
    "credential = DefaultAzureCredential()\n",
    "agents_client = AgentsClient(\n",
    "    endpoint=RESTAURANT_ASSISTANT_PROJECT,\n",
    "    credential=credential\n",
    ")\n",
    "\n",
    "print(\"Clients initialized successfully!\")"
   ]
  },
  {
   "cell_type": "markdown",
   "metadata": {},
   "source": [
    "## Define Target Function for Simulator\n",
    "\n",
    "This async function will be called by the simulator to test different scenarios."
   ]
  },
  {
   "cell_type": "code",
   "execution_count": null,
   "metadata": {},
   "outputs": [],
   "source": [
    "async def query_restaurant_agent_async(query: str) -> dict:\n",
    "    \"\"\"\n",
    "    Async function to query the restaurant agent.\n",
    "    Used by the simulator for dynamic testing.\n",
    "    \"\"\"\n",
    "    try:\n",
    "        # Create a thread and run with the agent\n",
    "        result = agents_client.create_thread_and_process_run(\n",
    "            agent_id=RESTAURANT_ASSISTANT_ID,\n",
    "            thread={\n",
    "                \"messages\": [\n",
    "                    {\n",
    "                        \"role\": \"user\",\n",
    "                        \"content\": query\n",
    "                    }\n",
    "                ]\n",
    "            }\n",
    "        )\n",
    "        \n",
    "        if result.status.value == \"completed\":\n",
    "            # Get the agent's response\n",
    "            messages = agents_client.messages.list(thread_id=result.thread_id)\n",
    "            for msg in messages:\n",
    "                if msg.role.value == \"assistant\":\n",
    "                    return {\n",
    "                        \"response\": msg.content[0].text.value,\n",
    "                        \"query\": query\n",
    "                    }\n",
    "        \n",
    "        return {\n",
    "            \"response\": f\"Agent run failed with status: {result.status.value}\",\n",
    "            \"query\": query\n",
    "        }\n",
    "        \n",
    "    except Exception as e:\n",
    "        return {\n",
    "            \"response\": f\"Error querying agent: {str(e)}\",\n",
    "            \"query\": query\n",
    "        }\n",
    "\n",
    "# Test the function\n",
    "test_result = await query_restaurant_agent_async(\"What are the hours for Scheibmeir's?\")\n",
    "print(\"Test query result:\")\n",
    "print(f\"Query: {test_result['query']}\")\n",
    "print(f\"Response: {test_result['response'][:100]}...\")"
   ]
  },
  {
   "cell_type": "markdown",
   "metadata": {},
   "source": [
    "## Simulate Customer Scenarios\n",
    "\n",
    "Note: For this demo, we'll create manual simulation scenarios instead of using the full Azure AI Simulator which requires additional configuration."
   ]
  },
  {
   "cell_type": "code",
   "execution_count": null,
   "metadata": {},
   "outputs": [],
   "source": [
    "# Define different customer personas and scenarios\n",
    "simulation_scenarios = [\n",
    "    {\n",
    "        \"persona\": \"First-time customer\",\n",
    "        \"queries\": [\n",
    "            \"What type of restaurant is Scheibmeir's?\",\n",
    "            \"What are your most popular dishes?\",\n",
    "            \"Do you take reservations?\"\n",
    "        ]\n",
    "    },\n",
    "    {\n",
    "        \"persona\": \"Dietary restrictions customer\", \n",
    "        \"queries\": [\n",
    "            \"Do you have vegetarian options?\",\n",
    "            \"What gluten-free dishes do you offer?\",\n",
    "            \"Can you accommodate food allergies?\"\n",
    "        ]\n",
    "    },\n",
    "    {\n",
    "        \"persona\": \"Location-focused customer\",\n",
    "        \"queries\": [\n",
    "            \"Where is Scheibmeir's located?\",\n",
    "            \"What are your hours?\",\n",
    "            \"Is there parking available?\"\n",
    "        ]\n",
    "    },\n",
    "    {\n",
    "        \"persona\": \"Price-conscious customer\",\n",
    "        \"queries\": [\n",
    "            \"What are your prices like?\",\n",
    "            \"Do you have any specials?\",\n",
    "            \"What's the average cost for dinner?\"\n",
    "        ]\n",
    "    }\n",
    "]\n",
    "\n",
    "print(f\"Defined {len(simulation_scenarios)} customer personas with simulation scenarios\")"
   ]
  },
  {
   "cell_type": "markdown",
   "metadata": {},
   "source": [
    "## Run Simulation"
   ]
  },
  {
   "cell_type": "code",
   "execution_count": null,
   "metadata": {},
   "outputs": [],
   "source": [
    "# Run simulation for each persona\n",
    "print(\"Running Customer Simulation:\")\n",
    "print(\"=\" * 60)\n",
    "\n",
    "all_results = []\n",
    "\n",
    "for scenario in simulation_scenarios:\n",
    "    persona = scenario[\"persona\"]\n",
    "    queries = scenario[\"queries\"]\n",
    "    \n",
    "    print(f\"\\n🎭 Testing {persona}:\")\n",
    "    print(\"-\" * 40)\n",
    "    \n",
    "    persona_results = []\n",
    "    \n",
    "    for query in queries:\n",
    "        print(f\"\\n❓ Query: {query}\")\n",
    "        \n",
    "        # Test the query\n",
    "        result = await query_restaurant_agent_async(query)\n",
    "        persona_results.append(result)\n",
    "        \n",
    "        # Display response\n",
    "        response = result[\"response\"]\n",
    "        if len(response) > 150:\n",
    "            display_response = response[:150] + \"...\"\n",
    "        else:\n",
    "            display_response = response\n",
    "            \n",
    "        print(f\"💬 Response: {display_response}\")\n",
    "    \n",
    "    all_results.append({\n",
    "        \"persona\": persona,\n",
    "        \"results\": persona_results\n",
    "    })\n",
    "\n",
    "print(f\"\\n✅ Simulation completed for {len(simulation_scenarios)} personas!\")"
   ]
  },
  {
   "cell_type": "markdown",
   "metadata": {},
   "source": [
    "## Analyze Simulation Results"
   ]
  },
  {
   "cell_type": "code",
   "execution_count": null,
   "metadata": {},
   "outputs": [],
   "source": [
    "# Analyze the simulation results\n",
    "print(\"Simulation Analysis:\")\n",
    "print(\"=\" * 50)\n",
    "\n",
    "total_queries = 0\n",
    "successful_responses = 0\n",
    "restaurant_focused_responses = 0\n",
    "\n",
    "for persona_data in all_results:\n",
    "    persona = persona_data[\"persona\"]\n",
    "    results = persona_data[\"results\"]\n",
    "    \n",
    "    print(f\"\\n{persona}:\")\n",
    "    \n",
    "    persona_success = 0\n",
    "    persona_restaurant_focus = 0\n",
    "    \n",
    "    for result in results:\n",
    "        total_queries += 1\n",
    "        response = result[\"response\"].lower()\n",
    "        \n",
    "        # Check if response is successful (not an error)\n",
    "        if not response.startswith(\"error\") and not response.startswith(\"agent run failed\"):\n",
    "            successful_responses += 1\n",
    "            persona_success += 1\n",
    "            \n",
    "            # Check if response mentions restaurant-specific content\n",
    "            if \"scheibmeir\" in response or \"restaurant\" in response or \"menu\" in response:\n",
    "                restaurant_focused_responses += 1\n",
    "                persona_restaurant_focus += 1\n",
    "    \n",
    "    print(f\"  ✓ Success rate: {(persona_success/len(results))*100:.1f}%\")\n",
    "    print(f\"  🎯 Restaurant focus: {(persona_restaurant_focus/len(results))*100:.1f}%\")\n",
    "\n",
    "print(f\"\\nOverall Simulation Results:\")\n",
    "print(f\"Total queries tested: {total_queries}\")\n",
    "print(f\"Successful responses: {successful_responses}\")\n",
    "print(f\"Overall success rate: {(successful_responses/total_queries)*100:.1f}%\")\n",
    "print(f\"Restaurant-focused responses: {restaurant_focused_responses}\")\n",
    "print(f\"Restaurant focus rate: {(restaurant_focused_responses/total_queries)*100:.1f}%\")\n",
    "\n",
    "print(\"\\n\" + \"=\" * 50)\n",
    "print(\"🎉 Simulator-based evaluation completed!\")\n",
    "print(\"\\nThis simulation tested how well the agent handles different\")\n",
    "print(\"customer personas and their typical questions about the restaurant.\")"
   ]
  }
 ],
 "metadata": {
  "kernelspec": {
   "display_name": "Python 3",
   "language": "python",
   "name": "python3"
  },
  "language_info": {
   "codemirror_mode": {
    "name": "ipython",
    "version": 3
   },
   "file_extension": ".py",
   "mimetype": "text/x-python",
   "name": "python",
   "nbconvert_exporter": "python",
   "pygments_lexer": "ipython3",
   "version": "3.12.0"
  }
 },
 "nbformat": 4,
 "nbformat_minor": 4
}
