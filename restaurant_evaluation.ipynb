{
 "cells": [
  {
   "cell_type": "markdown",
   "metadata": {},
   "source": [
    "# Restaurant Agent Evaluation\n",
    "\n",
    "This notebook evaluates the Scheibmeir's restaurant agent using a comprehensive set of test queries.\n",
    "The evaluation includes both questions about Scheibmeir's restaurant (based on the grounded PDFs) and general questions to test the agent's ability to stay on topic."
   ]
  },
  {
   "cell_type": "markdown",
   "metadata": {},
   "source": [
    "## Setup and Configuration"
   ]
  },
  {
   "cell_type": "code",
   "execution_count": null,
   "metadata": {},
   "outputs": [],
   "source": [
    "import os\n",
    "import json\n",
    "from dotenv import load_dotenv\n",
    "from azure.ai.evaluation import evaluate\n",
    "from azure.ai.evaluation import (\n",
    "    GroundednessEvaluator,\n",
    "    RelevanceEvaluator,\n",
    "    CoherenceEvaluator,\n",
    "    FluencyEvaluator,\n",
    "    AzureOpenAIModelConfiguration\n",
    ")\n",
    "from azure.ai.agents import AgentsClient\n",
    "from azure.identity import DefaultAzureCredential\n",
    "\n",
    "# Load environment variables from .env file\n",
    "load_dotenv()\n",
    "\n",
    "print(\"Libraries imported successfully!\")"
   ]
  },
  {
   "cell_type": "code",
   "execution_count": null,
   "metadata": {},
   "outputs": [],
<<<<<<< HEAD
   "source": "# Configuration from environment variables\nRESTAURANT_ASSISTANT_ID = os.getenv(\"RESTAURANT_ASSISTANT_ID\")\nRESTAURANT_ASSISTANT_MODEL = os.getenv(\"RESTAURANT_ASSISTANT_MODEL\")\nRESTAURANT_ASSISTANT_PROJECT = os.getenv(\"RESTAURANT_ASSISTANT_PROJECT\")\n\nprint(f\"Restaurant Assistant ID: {RESTAURANT_ASSISTANT_ID}\")\nprint(f\"Restaurant Assistant Model: {RESTAURANT_ASSISTANT_MODEL}\")\nprint(f\"Restaurant Project: {RESTAURANT_ASSISTANT_PROJECT}\")"
=======
   "source": [
    "# Configuration from environment variables\n",
    "RESTAURANT_ASSISTANT_ID = os.getenv(\"RESTAURANT_ASSISTANT_ID\")\n",
    "RESTAURANT_ASSISTANT_MODEL = os.getenv(\"RESTAURANT_ASSISTANT_MODEL\")\n",
    "RESTAURANT_ASSISTANT_PROJECT = os.getenv(\"RESTAURANT_ASSISTANT_PROJECT\")\n",
    "\n",
    "# Azure OpenAI configuration for evaluators\n",
    "AZURE_OPENAI_ENDPOINT = os.getenv(\"DEEP_RESEARCH_PROJECT_ENDPOINT\").replace(\"/api/projects/deep-research-demo-project\", \"\")\n",
    "AZURE_OPENAI_API_VERSION = \"2024-10-21\"\n",
    "AGENT_MODEL_DEPLOYMENT_NAME = os.getenv(\"AGENT_MODEL_DEPLOYMENT_NAME\")\n",
    "\n",
    "# Azure AI project configuration\n",
    "AZURE_SUBSCRIPTION_ID = os.getenv(\"AZURE_SUBSCRIPTION_ID\")\n",
    "AZURE_RESOURCE_GROUP_NAME = os.getenv(\"AZURE_RESOURCE_GROUP_NAME\")\n",
    "AZURE_PROJECT_NAME = os.getenv(\"AZURE_PROJECT_NAME\")\n",
    "\n",
    "print(f\"Restaurant Assistant ID: {RESTAURANT_ASSISTANT_ID}\")\n",
    "print(f\"Azure OpenAI Endpoint: {AZURE_OPENAI_ENDPOINT}\")\n",
    "print(f\"Model Deployment: {AGENT_MODEL_DEPLOYMENT_NAME}\")\n",
    "print(f\"Project: {AZURE_PROJECT_NAME}\")"
   ]
>>>>>>> a9366a3 (Add comprehensive Azure AI Foundry restaurant agent evaluation suite)
  },
  {
   "cell_type": "markdown",
   "metadata": {},
   "source": [
    "## Initialize Agents Client"
   ]
  },
  {
   "cell_type": "code",
   "execution_count": null,
   "metadata": {},
   "outputs": [],
   "source": [
    "# Initialize the Agents client\n",
    "credential = DefaultAzureCredential()\n",
    "agents_client = AgentsClient(\n",
    "    endpoint=RESTAURANT_ASSISTANT_PROJECT,\n",
    "    credential=credential\n",
    ")\n",
    "\n",
    "print(\"Agents client initialized successfully!\")"
   ]
  },
  {
   "cell_type": "markdown",
   "metadata": {},
   "source": [
    "## Define Target Function for Evaluation\n",
    "\n",
    "This function will be called by the evaluator for each test query."
   ]
  },
  {
   "cell_type": "code",
   "execution_count": null,
   "metadata": {},
   "outputs": [],
<<<<<<< HEAD
   "source": "def query_restaurant_agent(query: str) -> dict:\n    \"\"\"\n    Function to query the restaurant agent and return the response.\n    This function will be used by the Azure AI evaluation framework.\n    \"\"\"\n    try:\n        # Create a thread and run in one step\n        result = agents_client.create_thread_and_process_run(\n            agent_id=RESTAURANT_ASSISTANT_ID,\n            thread={\n                \"messages\": [\n                    {\n                        \"role\": \"user\",\n                        \"content\": query\n                    }\n                ]\n            }\n        )\n        \n        if result.status.value == \"completed\":\n            # Get messages from the thread\n            messages = agents_client.messages.list(thread_id=result.thread_id)\n            \n            # Find the agent's response\n            for msg in messages:\n                if msg.role.value == \"assistant\":\n                    return {\n                        \"response\": msg.content[0].text.value,\n                        \"query\": query\n                    }\n        \n        return {\n            \"response\": f\"Agent run failed with status: {result.status.value}\",\n            \"query\": query\n        }\n        \n    except Exception as e:\n        return {\n            \"response\": f\"Error querying agent: {str(e)}\",\n            \"query\": query\n        }\n\n# Test the function with a sample query\ntest_result = query_restaurant_agent(\"What are the opening hours for Scheibmeir's?\")\nprint(\"Test query result:\")\nprint(f\"Query: {test_result['query']}\")\nprint(f\"Response: {test_result['response'][:200]}...\")"
=======
   "source": [
    "def query_restaurant_agent(query: str) -> dict:\n",
    "    \"\"\"\n",
    "    Function to query the restaurant agent and return the response.\n",
    "    This function will be used by the Azure AI evaluation framework.\n",
    "    \"\"\"\n",
    "    try:\n",
    "        # Create a thread and run in one step\n",
    "        result = agents_client.create_thread_and_process_run(\n",
    "            agent_id=RESTAURANT_ASSISTANT_ID,\n",
    "            thread={\n",
    "                \"messages\": [\n",
    "                    {\n",
    "                        \"role\": \"user\",\n",
    "                        \"content\": query\n",
    "                    }\n",
    "                ]\n",
    "            }\n",
    "        )\n",
    "        \n",
    "        if result.status.value == \"completed\":\n",
    "            # Get messages from the thread\n",
    "            messages = agents_client.messages.list(thread_id=result.thread_id)\n",
    "            \n",
    "            # Find the agent's response\n",
    "            for msg in messages:\n",
    "                if msg.role.value == \"agent\":\n",
    "                    return {\n",
    "                        \"response\": msg.content[0].text.value,\n",
    "                        \"query\": query\n",
    "                    }\n",
    "        \n",
    "        return {\n",
    "            \"response\": f\"Agent run failed with status: {result.status.value}\",\n",
    "            \"query\": query\n",
    "        }\n",
    "        \n",
    "    except Exception as e:\n",
    "        return {\n",
    "            \"response\": f\"Error querying agent: {str(e)}\",\n",
    "            \"query\": query\n",
    "        }\n",
    "\n",
    "# Test the function with a sample query\n",
    "test_result = query_restaurant_agent(\"What are the opening hours for Scheibmeir's?\")\n",
    "print(\"Test query result:\")\n",
    "print(f\"Query: {test_result['query']}\")\n",
    "print(f\"Response: {test_result['response'][:200]}...\")"
   ]
>>>>>>> a9366a3 (Add comprehensive Azure AI Foundry restaurant agent evaluation suite)
  },
  {
   "cell_type": "markdown",
   "metadata": {},
   "source": [
    "## Configure Evaluators"
   ]
  },
  {
   "cell_type": "code",
   "execution_count": null,
   "metadata": {},
   "outputs": [],
<<<<<<< HEAD
   "source": "# Note: For this evaluation, we'll use simple evaluators without AI-assisted evaluation\n# to avoid needing additional Azure OpenAI configuration\n\nprint(\"Basic evaluators configured - ready for evaluation!\")"
=======
   "source": [
    "# Configure the model for AI-assisted evaluators\n",
    "model_config = AzureOpenAIModelConfiguration(\n",
    "    azure_endpoint=AZURE_OPENAI_ENDPOINT,\n",
    "    azure_deployment=AGENT_MODEL_DEPLOYMENT_NAME,\n",
    "    api_version=AZURE_OPENAI_API_VERSION,\n",
    "    credential=credential\n",
    ")\n",
    "\n",
    "# Initialize evaluators\n",
    "groundedness_evaluator = GroundednessEvaluator(model_config=model_config)\n",
    "relevance_evaluator = RelevanceEvaluator(model_config=model_config)\n",
    "coherence_evaluator = CoherenceEvaluator(model_config=model_config)\n",
    "fluency_evaluator = FluencyEvaluator(model_config=model_config)\n",
    "\n",
    "print(\"Evaluators configured successfully!\")"
   ]
>>>>>>> a9366a3 (Add comprehensive Azure AI Foundry restaurant agent evaluation suite)
  },
  {
   "cell_type": "markdown",
   "metadata": {},
   "source": [
    "## Load Test Data"
   ]
  },
  {
   "cell_type": "code",
   "execution_count": null,
   "metadata": {},
   "outputs": [],
   "source": [
    "# Load the evaluation queries\n",
    "queries = []\n",
    "with open(\"evaluation_queries.jsonl\", \"r\") as f:\n",
    "    for line in f:\n",
    "        queries.append(json.loads(line.strip()))\n",
    "\n",
    "print(f\"Loaded {len(queries)} test queries\")\n",
    "print(\"Sample queries:\")\n",
    "for i in range(5):\n",
    "    print(f\"  {i+1}. {queries[i]['query']}\")"
   ]
  },
  {
   "cell_type": "markdown",
   "metadata": {},
   "source": [
    "## Run Evaluation\n",
    "\n",
    "This will evaluate the restaurant agent using all test queries and multiple evaluation metrics."
   ]
  },
  {
   "cell_type": "code",
   "execution_count": null,
   "metadata": {},
   "outputs": [],
<<<<<<< HEAD
   "source": "# Run basic evaluation without AI-assisted metrics\n# Using the RESTAURANT project configuration\nazure_ai_project = {\n    \"subscription_id\": os.getenv(\"RESTAURANT_SUBSCRIPTION_ID\"),\n    \"project_name\": \"aipmaker-project\",  # Extracted from RESTAURANT_ASSISTANT_PROJECT URL\n    \"resource_group_name\": os.getenv(\"RESTAURANT_RESOURCE_GROUP\"),\n}\n\nprint(\"Starting evaluation... This will test the target function with sample queries.\")\n\n# For now, let's do a simple test evaluation with a subset of queries\ntest_queries = []\nwith open(\"evaluation_queries.jsonl\", \"r\") as f:\n    for i, line in enumerate(f):\n        if i < 5:  # Test with first 5 queries only\n            test_queries.append(json.loads(line.strip()))\n\nprint(f\"Testing with {len(test_queries)} sample queries:\")\nresults = []\nfor query_data in test_queries:\n    result = query_restaurant_agent(query_data[\"query\"])\n    results.append(result)\n    print(f\"✓ Query: {query_data['query'][:50]}...\")\n\nprint(\"Sample evaluation completed!\")"
=======
   "source": [
    "# Azure AI project configuration for evaluation\n",
    "azure_ai_project = {\n",
    "    \"subscription_id\": AZURE_SUBSCRIPTION_ID,\n",
    "    \"project_name\": AZURE_PROJECT_NAME,\n",
    "    \"resource_group_name\": AZURE_RESOURCE_GROUP_NAME,\n",
    "}\n",
    "\n",
    "# Run the evaluation\n",
    "print(\"Starting evaluation... This may take a while.\")\n",
    "\n",
    "evaluation_result = evaluate(\n",
    "    data=\"evaluation_queries.jsonl\",\n",
    "    target=query_restaurant_agent,\n",
    "    evaluators={\n",
    "        \"groundedness\": groundedness_evaluator,\n",
    "        \"relevance\": relevance_evaluator,\n",
    "        \"coherence\": coherence_evaluator,\n",
    "        \"fluency\": fluency_evaluator,\n",
    "    },\n",
    "    azure_ai_project=azure_ai_project,\n",
    ")\n",
    "\n",
    "print(\"Evaluation completed!\")\n",
    "print(f\"Azure AI Foundry Studio URL: {evaluation_result.get('studio_url')}\")"
   ]
>>>>>>> a9366a3 (Add comprehensive Azure AI Foundry restaurant agent evaluation suite)
  },
  {
   "cell_type": "markdown",
   "metadata": {},
   "source": [
    "## Display Results"
   ]
  },
  {
   "cell_type": "code",
   "execution_count": null,
   "metadata": {},
   "outputs": [],
<<<<<<< HEAD
   "source": "# Display basic evaluation results\nprint(\"Evaluation Results:\")\nprint(\"=\" * 50)\n\nsuccessful_responses = sum(1 for r in results if not r[\"response\"].startswith(\"Error\") and not r[\"response\"].startswith(\"Agent run failed\"))\ntotal_queries = len(results)\n\nprint(f\"Total queries tested: {total_queries}\")\nprint(f\"Successful responses: {successful_responses}\")\nprint(f\"Success rate: {(successful_responses/total_queries)*100:.1f}%\")\n\nprint(\"\\nSample responses:\")\nfor i, result in enumerate(results[:3]):\n    print(f\"\\n{i+1}. Query: {result['query']}\")\n    print(f\"   Response: {result['response'][:200]}...\")\n    print(\"-\" * 60)"
=======
   "source": [
    "# Display evaluation metrics\n",
    "print(\"Evaluation Metrics:\")\n",
    "print(\"=\" * 50)\n",
    "\n",
    "metrics = evaluation_result.get(\"metrics\", {})\n",
    "for metric_name, metric_value in metrics.items():\n",
    "    print(f\"{metric_name}: {metric_value:.4f}\")\n",
    "\n",
    "print(\"\\nDetailed results are available in Azure AI Foundry Studio.\")"
   ]
>>>>>>> a9366a3 (Add comprehensive Azure AI Foundry restaurant agent evaluation suite)
  },
  {
   "cell_type": "markdown",
   "metadata": {},
   "source": [
    "## Sample Results Analysis\n",
    "\n",
    "Let's look at a few specific examples to understand how the agent performs."
   ]
  },
  {
   "cell_type": "code",
   "execution_count": null,
   "metadata": {},
   "outputs": [],
   "source": [
    "# Test a few specific queries to see the responses\n",
    "sample_queries = [\n",
    "    \"What are the opening hours for Scheibmeir's restaurant?\",\n",
    "    \"What steaks does Scheibmeir's serve?\",\n",
    "    \"How do I cook pasta?\",  # Non-restaurant query\n",
    "    \"What's the weather like today?\",  # Non-restaurant query\n",
    "    \"Does Scheibmeir's serve Chinese food?\",\n",
    "]\n",
    "\n",
    "print(\"Sample Agent Responses:\")\n",
    "print(\"=\" * 60)\n",
    "\n",
    "for i, query in enumerate(sample_queries, 1):\n",
    "    print(f\"\\n{i}. Query: {query}\")\n",
    "    result = query_restaurant_agent(query)\n",
    "    print(f\"   Response: {result['response'][:300]}{'...' if len(result['response']) > 300 else ''}\")\n",
    "    print(\"-\" * 60)"
   ]
  },
  {
   "cell_type": "markdown",
   "metadata": {},
   "source": [
    "## Summary\n",
    "\n",
    "This evaluation notebook:\n",
    "1. Tests the restaurant agent with 250 diverse queries\n",
    "2. Evaluates responses using multiple AI-assisted metrics (groundedness, relevance, coherence, fluency)\n",
    "3. Provides detailed results in Azure AI Foundry Studio\n",
    "4. Shows sample responses to understand agent behavior\n",
    "\n",
    "The evaluation helps assess:\n",
    "- How well the agent answers questions about Scheibmeir's restaurant using the grounded PDF data\n",
    "- Whether the agent stays on topic and handles non-restaurant queries appropriately\n",
    "- The quality and coherence of the agent's responses\n",
    "- Overall performance across different types of queries"
   ]
  }
 ],
 "metadata": {
  "kernelspec": {
   "display_name": "Python 3",
   "language": "python",
   "name": "python3"
  },
  "language_info": {
   "codemirror_mode": {
    "name": "ipython",
    "version": 3
   },
   "file_extension": ".py",
   "mimetype": "text/x-python",
   "name": "python",
   "nbconvert_exporter": "python",
   "pygments_lexer": "ipython3",
   "version": "3.12.11"
  }
 },
 "nbformat": 4,
 "nbformat_minor": 4
}