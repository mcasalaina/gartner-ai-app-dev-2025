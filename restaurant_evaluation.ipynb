{
 "cells": [
  {
   "cell_type": "markdown",
   "metadata": {},
   "source": [
    "# Restaurant Agent Evaluation\n",
    "\n",
    "This notebook evaluates the Scheibmeir's restaurant agent using a comprehensive set of test queries.\n",
    "The evaluation includes both questions about Scheibmeir's restaurant (based on the grounded PDFs) and general questions to test the agent's ability to stay on topic."
   ]
  },
  {
   "cell_type": "markdown",
   "metadata": {},
   "source": [
    "## Setup and Configuration"
   ]
  },
  {
   "cell_type": "code",
   "execution_count": 16,
   "metadata": {},
   "outputs": [
    {
     "name": "stdout",
     "output_type": "stream",
     "text": [
      "Libraries imported successfully!\n"
     ]
    }
   ],
   "source": [
    "import os\n",
    "import json\n",
    "from dotenv import load_dotenv\n",
    "from azure.ai.evaluation import evaluate\n",
    "from azure.ai.evaluation import (\n",
    "    GroundednessEvaluator,\n",
    "    RelevanceEvaluator,\n",
    "    CoherenceEvaluator,\n",
    "    FluencyEvaluator,\n",
    "    AzureOpenAIModelConfiguration\n",
    ")\n",
    "from azure.ai.agents import AgentsClient\n",
    "from azure.identity import AzureCliCredential\n",
    "\n",
    "# Load environment variables from .env file\n",
    "load_dotenv()\n",
    "\n",
    "print(\"Libraries imported successfully!\")"
   ]
  },
  {
   "cell_type": "code",
   "execution_count": null,
   "metadata": {},
   "outputs": [
    {
     "name": "stdout",
     "output_type": "stream",
     "text": [
      "Restaurant Assistant ID: asst_eJv1oQY8pHlj3mgXyV2sLCYG\n",
      "Restaurant OpenAI Endpoint: https://aipmaker-project-resource.services.ai.azure.com/api/projects/aipmaker-project\n",
      "Restaurant Model Deployment: gpt-4.1-mini\n",
      "Restaurant Project: aipmaker-project\n",
      "Restaurant Subscription: 21039746-6e73-4627-88af-efa80f856c2c\n",
      "Restaurant Resource Group: rg-AIPMaker\n"
     ]
    }
   ],
   "source": [
    "# Configuration from environment variables\n",
    "RESTAURANT_ASSISTANT_ID = os.getenv(\"RESTAURANT_ASSISTANT_ID\")\n",
    "RESTAURANT_ASSISTANT_MODEL = os.getenv(\"RESTAURANT_ASSISTANT_MODEL\")\n",
    "RESTAURANT_EVALUATION_MODEL = os.getenv(\"RESTAURANT_EVALUATION_MODEL\")\n",
    "RESTAURANT_ASSISTANT_PROJECT = os.getenv(\"RESTAURANT_ASSISTANT_PROJECT\")\n",
    "\n",
    "# Azure OpenAI configuration for evaluators - using restaurant project\n",
    "RESTAURANT_OPENAI_ENDPOINT = os.getenv(\"RESTAURANT_ASSISTANT_PROJECT\")\n",
    "RESTAURANT_OPENAI_API_VERSION = \"2024-10-21\"\n",
    "RESTAURANT_MODEL_DEPLOYMENT_NAME = os.getenv(\"RESTAURANT_EVALUATION_MODEL\")\n",
    "\n",
    "# Azure AI project configuration - using restaurant project\n",
    "RESTAURANT_SUBSCRIPTION_ID = os.getenv(\"RESTAURANT_SUBSCRIPTION_ID\")\n",
    "RESTAURANT_RESOURCE_GROUP_NAME = os.getenv(\"RESTAURANT_RESOURCE_GROUP\")\n",
    "RESTAURANT_PROJECT_NAME = os.getenv(\"RESTAURANT_PROJECT_NAME\")\n",
    "\n",
    "print(f\"Restaurant Assistant ID: {RESTAURANT_ASSISTANT_ID}\")\n",
    "print(f\"Restaurant Assistant Model: {RESTAURANT_ASSISTANT_MODEL}\")\n",
    "print(f\"Restaurant Evaluation Model: {RESTAURANT_EVALUATION_MODEL}\")\n",
    "print(f\"Restaurant OpenAI Endpoint: {RESTAURANT_OPENAI_ENDPOINT}\")\n",
    "print(f\"Restaurant Project: {RESTAURANT_PROJECT_NAME}\")\n",
    "print(f\"Restaurant Subscription: {RESTAURANT_SUBSCRIPTION_ID}\")\n",
    "print(f\"Restaurant Resource Group: {RESTAURANT_RESOURCE_GROUP_NAME}\")"
   ]
  },
  {
   "cell_type": "markdown",
   "metadata": {},
   "source": [
    "## Initialize Agents Client"
   ]
  },
  {
   "cell_type": "code",
   "execution_count": 18,
   "metadata": {},
   "outputs": [
    {
     "name": "stdout",
     "output_type": "stream",
     "text": [
      "Agents client initialized successfully with Azure CLI authentication!\n"
     ]
    }
   ],
   "source": [
    "# Initialize the Agents client with Azure CLI credentials\n",
    "credential = AzureCliCredential()\n",
    "agents_client = AgentsClient(\n",
    "    endpoint=RESTAURANT_ASSISTANT_PROJECT,\n",
    "    credential=credential\n",
    ")\n",
    "\n",
    "print(\"Agents client initialized successfully with Azure CLI authentication!\")"
   ]
  },
  {
   "cell_type": "markdown",
   "metadata": {},
   "source": [
    "## Define Target Function for Evaluation\n",
    "\n",
    "This function will be called by the evaluator for each test query."
   ]
  },
  {
   "cell_type": "code",
   "execution_count": 19,
   "metadata": {},
   "outputs": [
    {
     "name": "stdout",
     "output_type": "stream",
     "text": [
      "DEBUG: Run status: completed\n",
      "DEBUG: Found 2 messages\n",
      "DEBUG: Message 0: role=MessageRole.AGENT, content_type=<class 'list'>\n",
      "DEBUG: Content type: <class 'azure.ai.agents.models._models.MessageTextContent'>\n",
      "Test query result:\n",
      "Query: What are the opening hours for Scheibmeir's?\n",
      "Response: The opening hours for Scheibmeir's Steaks, Snacks and Sticks located at 340 Jefferson St., San Francisco are:\n",
      "\n",
      "- Monday to Thursday: 4:00 PM - 10:00 PM\n",
      "- Friday: 4:00 PM - 11:00 PM\n",
      "- Saturday: 12:00 P...\n"
     ]
    }
   ],
   "source": [
    "def query_restaurant_agent(query: str) -> dict:\n",
    "    \"\"\"\n",
    "    Function to query the restaurant agent and return the response.\n",
    "    This function will be used by the Azure AI evaluation framework.\n",
    "    \"\"\"\n",
    "    try:\n",
    "        # Create a thread and run in one step\n",
    "        result = agents_client.create_thread_and_process_run(\n",
    "            agent_id=RESTAURANT_ASSISTANT_ID,\n",
    "            thread={\n",
    "                \"messages\": [\n",
    "                    {\n",
    "                        \"role\": \"user\",\n",
    "                        \"content\": query\n",
    "                    }\n",
    "                ]\n",
    "            }\n",
    "        )\n",
    "        \n",
    "        print(f\"DEBUG: Run status: {result.status.value}\")\n",
    "        \n",
    "        if result.status.value == \"completed\":\n",
    "            # Get messages from the thread\n",
    "            messages = agents_client.messages.list(thread_id=result.thread_id)\n",
    "            \n",
    "            # Convert ItemPaged to list and find the agent's response\n",
    "            messages_list = list(messages)\n",
    "            print(f\"DEBUG: Found {len(messages_list)} messages\")\n",
    "            \n",
    "            for i, msg in enumerate(messages_list):\n",
    "                print(f\"DEBUG: Message {i}: role={msg.role}, content_type={type(msg.content)}\")\n",
    "                if msg.role == \"assistant\":  # Assistant role for agent responses\n",
    "                    if msg.content and len(msg.content) > 0:\n",
    "                        print(f\"DEBUG: Content type: {type(msg.content[0])}\")\n",
    "                        if hasattr(msg.content[0], 'text'):\n",
    "                            return {\n",
    "                                \"response\": msg.content[0].text.value,\n",
    "                                \"query\": query\n",
    "                            }\n",
    "                        elif hasattr(msg.content[0], 'value'):\n",
    "                            return {\n",
    "                                \"response\": msg.content[0].value,\n",
    "                                \"query\": query\n",
    "                            }\n",
    "        \n",
    "        return {\n",
    "            \"response\": f\"Agent run failed with status: {result.status.value}\",\n",
    "            \"query\": query\n",
    "        }\n",
    "        \n",
    "    except Exception as e:\n",
    "        return {\n",
    "            \"response\": f\"Error querying agent: {str(e)}\",\n",
    "            \"query\": query\n",
    "        }\n",
    "\n",
    "# Test the function with a sample query\n",
    "test_result = query_restaurant_agent(\"What are the opening hours for Scheibmeir's?\")\n",
    "print(\"Test query result:\")\n",
    "print(f\"Query: {test_result['query']}\")\n",
    "print(f\"Response: {test_result['response'][:200]}...\")"
   ]
  },
  {
   "cell_type": "markdown",
   "metadata": {},
   "source": [
    "## Configure Evaluators"
   ]
  },
  {
   "cell_type": "code",
   "execution_count": null,
   "metadata": {},
   "outputs": [
    {
     "ename": "EvaluationException",
     "evalue": "(UserError) Model config validation failed.",
     "output_type": "error",
     "traceback": [
      "\u001b[31m---------------------------------------------------------------------------\u001b[39m",
      "\u001b[31mTypeError\u001b[39m                                 Traceback (most recent call last)",
      "\u001b[36mFile \u001b[39m\u001b[32mc:\\src\\gartner-ai-app-dev-2025\\venv\\Lib\\site-packages\\azure\\ai\\evaluation\\_common\\utils.py:185\u001b[39m, in \u001b[36mvalidate_model_config\u001b[39m\u001b[34m(config)\u001b[39m\n\u001b[32m    184\u001b[39m \u001b[38;5;28;01mtry\u001b[39;00m:\n\u001b[32m--> \u001b[39m\u001b[32m185\u001b[39m     \u001b[38;5;28;01mreturn\u001b[39;00m \u001b[43m_validate_typed_dict\u001b[49m\u001b[43m(\u001b[49m\u001b[43mconfig\u001b[49m\u001b[43m,\u001b[49m\u001b[43m \u001b[49m\u001b[43mAzureOpenAIModelConfiguration\u001b[49m\u001b[43m)\u001b[49m\n\u001b[32m    186\u001b[39m \u001b[38;5;28;01mexcept\u001b[39;00m \u001b[38;5;167;01mTypeError\u001b[39;00m:\n",
      "\u001b[36mFile \u001b[39m\u001b[32mc:\\src\\gartner-ai-app-dev-2025\\venv\\Lib\\site-packages\\azure\\ai\\evaluation\\_common\\utils.py:227\u001b[39m, in \u001b[36m_validate_typed_dict\u001b[39m\u001b[34m(o, t)\u001b[39m\n\u001b[32m    226\u001b[39m \u001b[38;5;28;01mif\u001b[39;00m unknown_keys:\n\u001b[32m--> \u001b[39m\u001b[32m227\u001b[39m     \u001b[38;5;28;01mraise\u001b[39;00m \u001b[38;5;167;01mTypeError\u001b[39;00m(\u001b[33mf\u001b[39m\u001b[33m\"\u001b[39m\u001b[33mdict contains unknown keys: \u001b[39m\u001b[38;5;132;01m{\u001b[39;00m\u001b[38;5;28mlist\u001b[39m(unknown_keys)\u001b[38;5;132;01m!r}\u001b[39;00m\u001b[33m\"\u001b[39m)\n\u001b[32m    229\u001b[39m required_keys = {\n\u001b[32m    230\u001b[39m     k\n\u001b[32m    231\u001b[39m     \u001b[38;5;28;01mfor\u001b[39;00m k \u001b[38;5;129;01min\u001b[39;00m annotations\n\u001b[32m    232\u001b[39m     \u001b[38;5;28;01mif\u001b[39;00m (is_total \u001b[38;5;129;01mand\u001b[39;00m get_origin(annotations[k]) \u001b[38;5;129;01mis\u001b[39;00m \u001b[38;5;129;01mnot\u001b[39;00m NotRequired)\n\u001b[32m    233\u001b[39m     \u001b[38;5;129;01mor\u001b[39;00m (\u001b[38;5;129;01mnot\u001b[39;00m is_total \u001b[38;5;129;01mand\u001b[39;00m get_origin(annotations[k]) \u001b[38;5;129;01mis\u001b[39;00m Required)\n\u001b[32m    234\u001b[39m }\n",
      "\u001b[31mTypeError\u001b[39m: dict contains unknown keys: ['credential']",
      "\nDuring handling of the above exception, another exception occurred:\n",
      "\u001b[31mTypeError\u001b[39m                                 Traceback (most recent call last)",
      "\u001b[36mFile \u001b[39m\u001b[32mc:\\src\\gartner-ai-app-dev-2025\\venv\\Lib\\site-packages\\azure\\ai\\evaluation\\_common\\utils.py:188\u001b[39m, in \u001b[36mvalidate_model_config\u001b[39m\u001b[34m(config)\u001b[39m\n\u001b[32m    187\u001b[39m \u001b[38;5;28;01mtry\u001b[39;00m:\n\u001b[32m--> \u001b[39m\u001b[32m188\u001b[39m     \u001b[38;5;28;01mreturn\u001b[39;00m \u001b[43m_validate_typed_dict\u001b[49m\u001b[43m(\u001b[49m\u001b[43mconfig\u001b[49m\u001b[43m,\u001b[49m\u001b[43m \u001b[49m\u001b[43mOpenAIModelConfiguration\u001b[49m\u001b[43m)\u001b[49m\n\u001b[32m    189\u001b[39m \u001b[38;5;28;01mexcept\u001b[39;00m \u001b[38;5;167;01mTypeError\u001b[39;00m \u001b[38;5;28;01mas\u001b[39;00m e:\n",
      "\u001b[36mFile \u001b[39m\u001b[32mc:\\src\\gartner-ai-app-dev-2025\\venv\\Lib\\site-packages\\azure\\ai\\evaluation\\_common\\utils.py:227\u001b[39m, in \u001b[36m_validate_typed_dict\u001b[39m\u001b[34m(o, t)\u001b[39m\n\u001b[32m    226\u001b[39m \u001b[38;5;28;01mif\u001b[39;00m unknown_keys:\n\u001b[32m--> \u001b[39m\u001b[32m227\u001b[39m     \u001b[38;5;28;01mraise\u001b[39;00m \u001b[38;5;167;01mTypeError\u001b[39;00m(\u001b[33mf\u001b[39m\u001b[33m\"\u001b[39m\u001b[33mdict contains unknown keys: \u001b[39m\u001b[38;5;132;01m{\u001b[39;00m\u001b[38;5;28mlist\u001b[39m(unknown_keys)\u001b[38;5;132;01m!r}\u001b[39;00m\u001b[33m\"\u001b[39m)\n\u001b[32m    229\u001b[39m required_keys = {\n\u001b[32m    230\u001b[39m     k\n\u001b[32m    231\u001b[39m     \u001b[38;5;28;01mfor\u001b[39;00m k \u001b[38;5;129;01min\u001b[39;00m annotations\n\u001b[32m    232\u001b[39m     \u001b[38;5;28;01mif\u001b[39;00m (is_total \u001b[38;5;129;01mand\u001b[39;00m get_origin(annotations[k]) \u001b[38;5;129;01mis\u001b[39;00m \u001b[38;5;129;01mnot\u001b[39;00m NotRequired)\n\u001b[32m    233\u001b[39m     \u001b[38;5;129;01mor\u001b[39;00m (\u001b[38;5;129;01mnot\u001b[39;00m is_total \u001b[38;5;129;01mand\u001b[39;00m get_origin(annotations[k]) \u001b[38;5;129;01mis\u001b[39;00m Required)\n\u001b[32m    234\u001b[39m }\n",
      "\u001b[31mTypeError\u001b[39m: dict contains unknown keys: ['api_version', 'credential', 'azure_endpoint', 'azure_deployment']",
      "\nThe above exception was the direct cause of the following exception:\n",
      "\u001b[31mEvaluationException\u001b[39m                       Traceback (most recent call last)",
      "\u001b[36mCell\u001b[39m\u001b[36m \u001b[39m\u001b[32mIn[20]\u001b[39m\u001b[32m, line 10\u001b[39m\n\u001b[32m      2\u001b[39m model_config = AzureOpenAIModelConfiguration(\n\u001b[32m      3\u001b[39m     azure_endpoint=RESTAURANT_OPENAI_ENDPOINT,\n\u001b[32m      4\u001b[39m     azure_deployment=RESTAURANT_MODEL_DEPLOYMENT_NAME,\n\u001b[32m      5\u001b[39m     api_version=RESTAURANT_OPENAI_API_VERSION,\n\u001b[32m      6\u001b[39m     credential=credential\n\u001b[32m      7\u001b[39m )\n\u001b[32m      9\u001b[39m \u001b[38;5;66;03m# Initialize evaluators\u001b[39;00m\n\u001b[32m---> \u001b[39m\u001b[32m10\u001b[39m groundedness_evaluator = \u001b[43mGroundednessEvaluator\u001b[49m\u001b[43m(\u001b[49m\u001b[43mmodel_config\u001b[49m\u001b[43m=\u001b[49m\u001b[43mmodel_config\u001b[49m\u001b[43m)\u001b[49m\n\u001b[32m     11\u001b[39m relevance_evaluator = RelevanceEvaluator(model_config=model_config)\n\u001b[32m     12\u001b[39m coherence_evaluator = CoherenceEvaluator(model_config=model_config)\n",
      "\u001b[36mFile \u001b[39m\u001b[32mc:\\src\\gartner-ai-app-dev-2025\\venv\\Lib\\site-packages\\azure\\ai\\evaluation\\_evaluators\\_groundedness\\_groundedness.py:91\u001b[39m, in \u001b[36mGroundednessEvaluator.__init__\u001b[39m\u001b[34m(self, model_config, threshold, **kwargs)\u001b[39m\n\u001b[32m     88\u001b[39m prompty_path = os.path.join(current_dir, \u001b[38;5;28mself\u001b[39m._PROMPTY_FILE_NO_QUERY)  \u001b[38;5;66;03m# Default to no query\u001b[39;00m\n\u001b[32m     90\u001b[39m \u001b[38;5;28mself\u001b[39m._higher_is_better = \u001b[38;5;28;01mTrue\u001b[39;00m\n\u001b[32m---> \u001b[39m\u001b[32m91\u001b[39m \u001b[38;5;28;43msuper\u001b[39;49m\u001b[43m(\u001b[49m\u001b[43m)\u001b[49m\u001b[43m.\u001b[49m\u001b[34;43m__init__\u001b[39;49m\u001b[43m(\u001b[49m\n\u001b[32m     92\u001b[39m \u001b[43m    \u001b[49m\u001b[43mmodel_config\u001b[49m\u001b[43m=\u001b[49m\u001b[43mmodel_config\u001b[49m\u001b[43m,\u001b[49m\n\u001b[32m     93\u001b[39m \u001b[43m    \u001b[49m\u001b[43mprompty_file\u001b[49m\u001b[43m=\u001b[49m\u001b[43mprompty_path\u001b[49m\u001b[43m,\u001b[49m\n\u001b[32m     94\u001b[39m \u001b[43m    \u001b[49m\u001b[43mresult_key\u001b[49m\u001b[43m=\u001b[49m\u001b[38;5;28;43mself\u001b[39;49m\u001b[43m.\u001b[49m\u001b[43m_RESULT_KEY\u001b[49m\u001b[43m,\u001b[49m\n\u001b[32m     95\u001b[39m \u001b[43m    \u001b[49m\u001b[43mthreshold\u001b[49m\u001b[43m=\u001b[49m\u001b[43mthreshold\u001b[49m\u001b[43m,\u001b[49m\n\u001b[32m     96\u001b[39m \u001b[43m    \u001b[49m\u001b[43m_higher_is_better\u001b[49m\u001b[43m=\u001b[49m\u001b[38;5;28;43mself\u001b[39;49m\u001b[43m.\u001b[49m\u001b[43m_higher_is_better\u001b[49m\u001b[43m,\u001b[49m\n\u001b[32m     97\u001b[39m \u001b[43m\u001b[49m\u001b[43m)\u001b[49m\n\u001b[32m     98\u001b[39m \u001b[38;5;28mself\u001b[39m._model_config = model_config\n\u001b[32m     99\u001b[39m \u001b[38;5;28mself\u001b[39m.threshold = threshold\n",
      "\u001b[36mFile \u001b[39m\u001b[32mc:\\src\\gartner-ai-app-dev-2025\\venv\\Lib\\site-packages\\azure\\ai\\evaluation\\_evaluators\\_common\\_base_prompty_eval.py:79\u001b[39m, in \u001b[36mPromptyEvaluatorBase.__init__\u001b[39m\u001b[34m(self, result_key, prompty_file, model_config, eval_last_turn, threshold, _higher_is_better, **kwargs)\u001b[39m\n\u001b[32m     76\u001b[39m subclass_name = \u001b[38;5;28mself\u001b[39m.\u001b[34m__class__\u001b[39m.\u001b[34m__name__\u001b[39m\n\u001b[32m     77\u001b[39m user_agent = \u001b[33mf\u001b[39m\u001b[33m\"\u001b[39m\u001b[38;5;132;01m{\u001b[39;00mUserAgentSingleton().value\u001b[38;5;132;01m}\u001b[39;00m\u001b[33m (type=evaluator subtype=\u001b[39m\u001b[38;5;132;01m{\u001b[39;00msubclass_name\u001b[38;5;132;01m}\u001b[39;00m\u001b[33m)\u001b[39m\u001b[33m\"\u001b[39m\n\u001b[32m     78\u001b[39m prompty_model_config = construct_prompty_model_config(\n\u001b[32m---> \u001b[39m\u001b[32m79\u001b[39m     \u001b[43mvalidate_model_config\u001b[49m\u001b[43m(\u001b[49m\u001b[43mmodel_config\u001b[49m\u001b[43m)\u001b[49m,\n\u001b[32m     80\u001b[39m     \u001b[38;5;28mself\u001b[39m._DEFAULT_OPEN_API_VERSION,\n\u001b[32m     81\u001b[39m     user_agent,\n\u001b[32m     82\u001b[39m )\n\u001b[32m     84\u001b[39m \u001b[38;5;28mself\u001b[39m._flow = AsyncPrompty.load(\n\u001b[32m     85\u001b[39m     source=\u001b[38;5;28mself\u001b[39m._prompty_file, model=prompty_model_config, is_reasoning_model=\u001b[38;5;28mself\u001b[39m._is_reasoning_model\n\u001b[32m     86\u001b[39m )\n",
      "\u001b[36mFile \u001b[39m\u001b[32mc:\\src\\gartner-ai-app-dev-2025\\venv\\Lib\\site-packages\\azure\\ai\\evaluation\\_common\\utils.py:191\u001b[39m, in \u001b[36mvalidate_model_config\u001b[39m\u001b[34m(config)\u001b[39m\n\u001b[32m    189\u001b[39m \u001b[38;5;28;01mexcept\u001b[39;00m \u001b[38;5;167;01mTypeError\u001b[39;00m \u001b[38;5;28;01mas\u001b[39;00m e:\n\u001b[32m    190\u001b[39m     msg = \u001b[33m\"\u001b[39m\u001b[33mModel config validation failed.\u001b[39m\u001b[33m\"\u001b[39m\n\u001b[32m--> \u001b[39m\u001b[32m191\u001b[39m     \u001b[38;5;28;01mraise\u001b[39;00m EvaluationException(\n\u001b[32m    192\u001b[39m         message=msg, internal_message=msg, category=ErrorCategory.MISSING_FIELD, blame=ErrorBlame.USER_ERROR\n\u001b[32m    193\u001b[39m     ) \u001b[38;5;28;01mfrom\u001b[39;00m\u001b[38;5;250m \u001b[39m\u001b[34;01me\u001b[39;00m\n",
      "\u001b[31mEvaluationException\u001b[39m: (UserError) Model config validation failed."
     ]
    }
   ],
   "source": [
    "# Configure the model for AI-assisted evaluators\n",
    "model_config = AzureOpenAIModelConfiguration(\n",
    "    azure_endpoint=RESTAURANT_OPENAI_ENDPOINT,\n",
    "    azure_deployment=RESTAURANT_EVALUATION_MODEL,\n",
    "    api_version=RESTAURANT_OPENAI_API_VERSION,\n",
    "    credential=credential\n",
    ")\n",
    "\n",
    "# Initialize evaluators\n",
    "groundedness_evaluator = GroundednessEvaluator(model_config=model_config)\n",
    "relevance_evaluator = RelevanceEvaluator(model_config=model_config)\n",
    "coherence_evaluator = CoherenceEvaluator(model_config=model_config)\n",
    "fluency_evaluator = FluencyEvaluator(model_config=model_config)\n",
    "\n",
    "print(\"Evaluators configured successfully!\")"
   ]
  },
  {
   "cell_type": "markdown",
   "metadata": {},
   "source": [
    "## Load Test Data"
   ]
  },
  {
   "cell_type": "code",
   "execution_count": null,
   "metadata": {},
   "outputs": [],
   "source": [
    "# Load the evaluation queries\n",
    "queries = []\n",
    "with open(\"evaluation_queries.jsonl\", \"r\") as f:\n",
    "    for line in f:\n",
    "        queries.append(json.loads(line.strip()))\n",
    "\n",
    "print(f\"Loaded {len(queries)} test queries\")\n",
    "print(\"Sample queries:\")\n",
    "for i in range(5):\n",
    "    print(f\"  {i+1}. {queries[i]['query']}\")"
   ]
  },
  {
   "cell_type": "markdown",
   "metadata": {},
   "source": [
    "## Run Evaluation\n",
    "\n",
    "This will evaluate the restaurant agent using all test queries and multiple evaluation metrics."
   ]
  },
  {
   "cell_type": "code",
   "execution_count": null,
   "metadata": {},
   "outputs": [],
   "source": [
    "# Azure AI project configuration for evaluation\n",
    "azure_ai_project = {\n",
    "    \"subscription_id\": RESTAURANT_SUBSCRIPTION_ID,\n",
    "    \"project_name\": RESTAURANT_PROJECT_NAME,\n",
    "    \"resource_group_name\": RESTAURANT_RESOURCE_GROUP_NAME,\n",
    "}\n",
    "\n",
    "# Run the evaluation\n",
    "print(\"Starting evaluation... This may take a while.\")\n",
    "\n",
    "evaluation_result = evaluate(\n",
    "    data=\"evaluation_queries.jsonl\",\n",
    "    target=query_restaurant_agent,\n",
    "    evaluators={\n",
    "        \"groundedness\": groundedness_evaluator,\n",
    "        \"relevance\": relevance_evaluator,\n",
    "        \"coherence\": coherence_evaluator,\n",
    "        \"fluency\": fluency_evaluator,\n",
    "    },\n",
    "    azure_ai_project=azure_ai_project,\n",
    ")\n",
    "\n",
    "print(\"Evaluation completed!\")\n",
    "print(f\"Azure AI Foundry Studio URL: {evaluation_result.get('studio_url')}\")"
   ]
  },
  {
   "cell_type": "markdown",
   "metadata": {},
   "source": [
    "## Display Results"
   ]
  },
  {
   "cell_type": "code",
   "execution_count": null,
   "metadata": {},
   "outputs": [],
   "source": [
    "# Display evaluation metrics\n",
    "print(\"Evaluation Metrics:\")\n",
    "print(\"=\" * 50)\n",
    "\n",
    "metrics = evaluation_result.get(\"metrics\", {})\n",
    "for metric_name, metric_value in metrics.items():\n",
    "    print(f\"{metric_name}: {metric_value:.4f}\")\n",
    "\n",
    "print(\"\\nDetailed results are available in Azure AI Foundry Studio.\")"
   ]
  },
  {
   "cell_type": "markdown",
   "metadata": {},
   "source": [
    "## Sample Results Analysis\n",
    "\n",
    "Let's look at a few specific examples to understand how the agent performs."
   ]
  },
  {
   "cell_type": "code",
   "execution_count": null,
   "metadata": {},
   "outputs": [],
   "source": [
    "# Test a few specific queries to see the responses\n",
    "sample_queries = [\n",
    "    \"What are the opening hours for Scheibmeir's restaurant?\",\n",
    "    \"What steaks does Scheibmeir's serve?\",\n",
    "    \"How do I cook pasta?\",  # Non-restaurant query\n",
    "    \"What's the weather like today?\",  # Non-restaurant query\n",
    "    \"Does Scheibmeir's serve Chinese food?\",\n",
    "]\n",
    "\n",
    "print(\"Sample Agent Responses:\")\n",
    "print(\"=\" * 60)\n",
    "\n",
    "for i, query in enumerate(sample_queries, 1):\n",
    "    print(f\"\\n{i}. Query: {query}\")\n",
    "    result = query_restaurant_agent(query)\n",
    "    print(f\"   Response: {result['response'][:300]}{'...' if len(result['response']) > 300 else ''}\")\n",
    "    print(\"-\" * 60)"
   ]
  },
  {
   "cell_type": "markdown",
   "metadata": {},
   "source": [
    "## Summary\n",
    "\n",
    "This evaluation notebook:\n",
    "1. Tests the restaurant agent with 250 diverse queries\n",
    "2. Evaluates responses using multiple AI-assisted metrics (groundedness, relevance, coherence, fluency)\n",
    "3. Provides detailed results in Azure AI Foundry Studio\n",
    "4. Shows sample responses to understand agent behavior\n",
    "\n",
    "The evaluation helps assess:\n",
    "- How well the agent answers questions about Scheibmeir's restaurant using the grounded PDF data\n",
    "- Whether the agent stays on topic and handles non-restaurant queries appropriately\n",
    "- The quality and coherence of the agent's responses\n",
    "- Overall performance across different types of queries"
   ]
  }
 ],
 "metadata": {
  "kernelspec": {
   "display_name": "venv (3.13.5)",
   "language": "python",
   "name": "python3"
  },
  "language_info": {
   "codemirror_mode": {
    "name": "ipython",
    "version": 3
   },
   "file_extension": ".py",
   "mimetype": "text/x-python",
   "name": "python",
   "nbconvert_exporter": "python",
   "pygments_lexer": "ipython3",
   "version": "3.13.5"
  }
 },
 "nbformat": 4,
 "nbformat_minor": 4
}
