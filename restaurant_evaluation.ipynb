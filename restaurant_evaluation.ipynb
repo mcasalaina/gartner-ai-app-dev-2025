{
 "cells": [
  {
   "cell_type": "markdown",
   "metadata": {},
   "source": [
    "# Restaurant Agent Evaluation\n",
    "\n",
    "This notebook evaluates the Scheibmeir's restaurant agent using a comprehensive set of test queries.\n",
    "The evaluation includes both questions about Scheibmeir's restaurant (based on the grounded PDFs) and general questions to test the agent's ability to stay on topic."
   ]
  },
  {
   "cell_type": "markdown",
   "metadata": {},
   "source": [
    "## Setup and Configuration"
   ]
  },
  {
   "cell_type": "code",
   "execution_count": 1,
   "metadata": {},
   "outputs": [
    {
     "name": "stdout",
     "output_type": "stream",
     "text": [
      "Libraries imported successfully!\n"
     ]
    }
   ],
   "source": [
    "import os\n",
    "import json\n",
    "from dotenv import load_dotenv\n",
    "from azure.ai.evaluation import evaluate\n",
    "from azure.ai.evaluation import (\n",
    "    GroundednessEvaluator,\n",
    "    RelevanceEvaluator,\n",
    "    CoherenceEvaluator,\n",
    "    FluencyEvaluator,\n",
    "    AzureOpenAIModelConfiguration\n",
    ")\n",
    "from azure.ai.agents import AgentsClient\n",
    "from azure.identity import AzureCliCredential\n",
    "\n",
    "# Load environment variables from .env file\n",
    "load_dotenv(override=True)\n",
    "\n",
    "print(\"Libraries imported successfully!\")"
   ]
  },
  {
   "cell_type": "code",
   "execution_count": 2,
   "metadata": {},
   "outputs": [
    {
     "name": "stdout",
     "output_type": "stream",
     "text": [
      "Restaurant Assistant ID: asst_eJv1oQY8pHlj3mgXyV2sLCYG\n",
      "Restaurant Assistant Model: gpt-4.1-mini\n",
      "Restaurant Evaluation Model: gpt-4o-mini\n",
      "Restaurant OpenAI Endpoint: https://aipmaker-project-resource.services.ai.azure.com/api/projects/aipmaker-project\n",
      "Restaurant OpenAI API Version: 2024-12-01-preview\n",
      "Restaurant Project: aipmaker-project\n",
      "Restaurant Subscription: 21039746-6e73-4627-88af-efa80f856c2c\n",
      "Restaurant Resource Group: rg-AIPMaker\n"
     ]
    }
   ],
   "source": [
    "# Configuration from environment variables\n",
    "RESTAURANT_ASSISTANT_ID = os.getenv(\"RESTAURANT_ASSISTANT_ID\")\n",
    "RESTAURANT_ASSISTANT_MODEL = os.getenv(\"RESTAURANT_ASSISTANT_MODEL\")\n",
    "RESTAURANT_EVALUATION_MODEL = os.getenv(\"RESTAURANT_EVALUATION_MODEL\")\n",
    "RESTAURANT_ASSISTANT_PROJECT = os.getenv(\"RESTAURANT_ASSISTANT_PROJECT\")\n",
    "\n",
    "# Azure OpenAI configuration for evaluators - using restaurant project\n",
    "RESTAURANT_OPENAI_ENDPOINT = os.getenv(\"RESTAURANT_ASSISTANT_PROJECT\")\n",
    "RESTAURANT_OPENAI_API_VERSION = os.getenv(\"RESTAURANT_OPENAI_API_VERSION\", \"2025-01-01-preview\")\n",
    "RESTAURANT_API_KEY = os.getenv(\"RESTAURANT_API_KEY\")\n",
    "RESTAURANT_MODEL_DEPLOYMENT_NAME = os.getenv(\"RESTAURANT_EVALUATION_MODEL\")\n",
    "\n",
    "# Azure AI project configuration - using restaurant project\n",
    "RESTAURANT_SUBSCRIPTION_ID = os.getenv(\"RESTAURANT_SUBSCRIPTION_ID\")\n",
    "RESTAURANT_RESOURCE_GROUP_NAME = os.getenv(\"RESTAURANT_RESOURCE_GROUP\")\n",
    "RESTAURANT_PROJECT_NAME = os.getenv(\"RESTAURANT_PROJECT_NAME\")\n",
    "\n",
    "print(f\"Restaurant Assistant ID: {RESTAURANT_ASSISTANT_ID}\")\n",
    "print(f\"Restaurant Assistant Model: {RESTAURANT_ASSISTANT_MODEL}\")\n",
    "print(f\"Restaurant Evaluation Model: {RESTAURANT_EVALUATION_MODEL}\")\n",
    "print(f\"Restaurant OpenAI Endpoint: {RESTAURANT_OPENAI_ENDPOINT}\")\n",
    "#print(f\"Restaurant API Key: {RESTAURANT_API_KEY}\")\n",
    "print(f\"Restaurant OpenAI API Version: {RESTAURANT_OPENAI_API_VERSION}\")\n",
    "print(f\"Restaurant Project: {RESTAURANT_PROJECT_NAME}\")\n",
    "print(f\"Restaurant Subscription: {RESTAURANT_SUBSCRIPTION_ID}\")\n",
    "print(f\"Restaurant Resource Group: {RESTAURANT_RESOURCE_GROUP_NAME}\")"
   ]
  },
  {
   "cell_type": "code",
   "execution_count": 3,
   "metadata": {},
   "outputs": [
    {
     "name": "stdout",
     "output_type": "stream",
     "text": [
      "✅ Configuration reloaded from .env file!\n",
      "Restaurant Assistant ID: asst_eJv1oQY8pHlj3mgXyV2sLCYG\n",
      "Restaurant Assistant Model: gpt-4.1-mini\n",
      "Restaurant Evaluation Model: gpt-4o-mini\n",
      "Restaurant OpenAI Endpoint: https://aipmaker-project-resource.services.ai.azure.com/api/projects/aipmaker-project\n",
      "Restaurant OpenAI API Version: 2024-12-01-preview\n",
      "Restaurant Project: aipmaker-project\n",
      "Restaurant Subscription: 21039746-6e73-4627-88af-efa80f856c2c\n",
      "Restaurant Resource Group: rg-AIPMaker\n"
     ]
    }
   ],
   "source": [
    "# Reload configuration from environment variables (fresh from .env file)\n",
    "RESTAURANT_ASSISTANT_ID = os.getenv(\"RESTAURANT_ASSISTANT_ID\")\n",
    "RESTAURANT_ASSISTANT_MODEL = os.getenv(\"RESTAURANT_ASSISTANT_MODEL\")\n",
    "RESTAURANT_EVALUATION_MODEL = os.getenv(\"RESTAURANT_EVALUATION_MODEL\")\n",
    "RESTAURANT_ASSISTANT_PROJECT = os.getenv(\"RESTAURANT_ASSISTANT_PROJECT\")\n",
    "\n",
    "# Azure OpenAI configuration for evaluators - using restaurant project\n",
    "RESTAURANT_OPENAI_ENDPOINT = os.getenv(\"RESTAURANT_ASSISTANT_PROJECT\")\n",
    "RESTAURANT_OPENAI_API_VERSION = os.getenv(\"RESTAURANT_OPENAI_API_VERSION\", \"2025-01-01-preview\")\n",
    "RESTAURANT_MODEL_DEPLOYMENT_NAME = os.getenv(\"RESTAURANT_EVALUATION_MODEL\")\n",
    "\n",
    "# Azure AI project configuration - using restaurant project\n",
    "RESTAURANT_SUBSCRIPTION_ID = os.getenv(\"RESTAURANT_SUBSCRIPTION_ID\")\n",
    "RESTAURANT_RESOURCE_GROUP_NAME = os.getenv(\"RESTAURANT_RESOURCE_GROUP\")\n",
    "RESTAURANT_PROJECT_NAME = os.getenv(\"RESTAURANT_PROJECT_NAME\")\n",
    "\n",
    "print(\"✅ Configuration reloaded from .env file!\")\n",
    "print(f\"Restaurant Assistant ID: {RESTAURANT_ASSISTANT_ID}\")\n",
    "print(f\"Restaurant Assistant Model: {RESTAURANT_ASSISTANT_MODEL}\")\n",
    "print(f\"Restaurant Evaluation Model: {RESTAURANT_EVALUATION_MODEL}\")\n",
    "print(f\"Restaurant OpenAI Endpoint: {RESTAURANT_OPENAI_ENDPOINT}\")\n",
    "print(f\"Restaurant OpenAI API Version: {RESTAURANT_OPENAI_API_VERSION}\")  # This should now show 2025-01-01-preview\n",
    "print(f\"Restaurant Project: {RESTAURANT_PROJECT_NAME}\")\n",
    "print(f\"Restaurant Subscription: {RESTAURANT_SUBSCRIPTION_ID}\")\n",
    "print(f\"Restaurant Resource Group: {RESTAURANT_RESOURCE_GROUP_NAME}\")"
   ]
  },
  {
   "cell_type": "markdown",
   "metadata": {},
   "source": [
    "## Initialize Agents Client"
   ]
  },
  {
   "cell_type": "code",
   "execution_count": 4,
   "metadata": {},
   "outputs": [
    {
     "name": "stdout",
     "output_type": "stream",
     "text": [
      "Agents client initialized successfully with Azure CLI authentication!\n"
     ]
    }
   ],
   "source": [
    "# Initialize the Agents client with Azure CLI credentials\n",
    "credential = AzureCliCredential()\n",
    "agents_client = AgentsClient(\n",
    "    endpoint=RESTAURANT_ASSISTANT_PROJECT,\n",
    "    credential=credential\n",
    ")\n",
    "\n",
    "print(\"Agents client initialized successfully with Azure CLI authentication!\")"
   ]
  },
  {
   "cell_type": "markdown",
   "metadata": {},
   "source": [
    "## Define Target Function for Evaluation\n",
    "\n",
    "This function will be called by the evaluator for each test query."
   ]
  },
  {
   "cell_type": "code",
   "execution_count": null,
   "metadata": {},
   "outputs": [
    {
     "name": "stdout",
     "output_type": "stream",
     "text": [
      "Run finished with status: RunStatus.COMPLETED\n",
      "Error querying agent: name 'RunStepToolCallDetails' is not defined\n",
      "Test query result:\n",
      "Query: What are the opening hours for Scheibmeir's?\n",
      "Response: Error querying agent: name 'RunStepToolCallDetails' is not defined...\n"
     ]
    }
   ],
   "source": [
    "from azure.ai.agents.models import (\n",
    "    FilePurpose,\n",
    "    FileSearchTool,\n",
    "    ListSortOrder,\n",
    "    RunAdditionalFieldList,\n",
    "    RunStepFileSearchToolCall,\n",
    "    RunStepToolCallDetails,\n",
    ")\n",
    "\n",
    "def query_restaurant_agent(query: str) -> dict:\n",
    "    try:\n",
    "        agents_client.get_agent(RESTAURANT_ASSISTANT_ID)\n",
    "        thread = agents_client.threads.create()\n",
    "        message = agents_client.messages.create(\n",
    "            thread_id=thread.id,\n",
    "            content=query,\n",
    "            role=\"user\"\n",
    "        )\n",
    "        run = agents_client.runs.create_and_process(\n",
    "            thread_id=thread.id,\n",
    "            agent_id=RESTAURANT_ASSISTANT_ID,\n",
    "        )\n",
    "        print(f\"Run finished with status: {run.status}\")\n",
    "\n",
    "        all_text = \"\"\n",
    "\n",
    "        for run_step in agents_client.run_steps.list(\n",
    "            thread_id=thread.id, run_id=run.id, include=[RunAdditionalFieldList.FILE_SEARCH_CONTENTS]\n",
    "        ):\n",
    "            if isinstance(run_step.step_details, RunStepToolCallDetails):\n",
    "                for tool_call in run_step.step_details.tool_calls:\n",
    "                    if (\n",
    "                        isinstance(tool_call, RunStepFileSearchToolCall)\n",
    "                        and tool_call.file_search\n",
    "                        and tool_call.file_search.results\n",
    "                        and tool_call.file_search.results[0].content\n",
    "                        and tool_call.file_search.results[0].content[0].text\n",
    "                    ):\n",
    "                        # Store the union of all of the contents' text\n",
    "                        all_text = \"\\n\".join(\n",
    "                            content.text for content in tool_call.file_search.results[0].content\n",
    "                        )\n",
    "\n",
    "        messages = agents_client.messages.list(thread_id=thread.id, order=ListSortOrder.ASCENDING)\n",
    "\n",
    "        messages_list = list(messages)\n",
    "\n",
    "        print(f\"DEBUG: Found {len(messages_list)} messages\")\n",
    "        \n",
    "        for i, msg in enumerate(messages_list):\n",
    "            print(f\"DEBUG: Message {i}: role={msg.role}, content_type={type(msg.content)}\")\n",
    "            if msg.role == \"assistant\":  # Assistant role for agent responses\n",
    "                if msg.content and len(msg.content) > 0:\n",
    "                    print(f\"DEBUG: Content type: {type(msg.content[0])}\")\n",
    "                    if hasattr(msg.content[0], 'text'):\n",
    "                        return {\n",
    "                            \"response\": msg.content[0].text.value,\n",
    "                            \"query\": query,\n",
    "                            \"context\": all_text\n",
    "                        }\n",
    "                    elif hasattr(msg.content[0], 'value'):\n",
    "                        return {\n",
    "                            \"response\": msg.content[0].value,\n",
    "                            \"query\": query,\n",
    "                            \"context\": all_text\n",
    "                        }\n",
    "    except Exception as e:\n",
    "        print(f\"Error querying agent: {str(e)}\")\n",
    "        return {\n",
    "            \"response\": f\"Error querying agent: {str(e)}\",\n",
    "            \"query\": query\n",
    "        }\n",
    "        \n",
    "# Test the function with a sample query\n",
    "test_result = query_restaurant_agent(\"What are the opening hours for Scheibmeir's?\")\n",
    "print(\"Test query result:\")\n",
    "print(f\"Query: {test_result['query']}\")\n",
    "print(f\"Response: {test_result['response'][:200]}...\")\n",
    "# if there's a context key, print it\n",
    "if 'context' in test_result:\n",
    "    print(f\"Context: {test_result['context'][:200]}...\")"
   ]
  },
  {
   "cell_type": "markdown",
   "metadata": {},
   "source": [
    "## Test Evaluation Model Directly\n",
    "\n",
    "Let's test the evaluation model directly to make sure it's working before proceeding."
   ]
  },
  {
   "cell_type": "code",
   "execution_count": null,
   "metadata": {},
   "outputs": [],
   "source": [
    "# Test the evaluation model using Azure AI Projects client\n",
    "import os\n",
    "from azure.ai.projects import AIProjectClient\n",
    "\n",
    "try:\n",
    "    # Set the OpenAI API version environment variable as required by the Azure AI Projects client\n",
    "    os.environ['OPENAI_API_VERSION'] = '2024-10-21'\n",
    "    \n",
    "    # Create Azure AI Projects client for Azure AI Foundry project endpoint\n",
    "    project_client = AIProjectClient(\n",
    "        endpoint=RESTAURANT_OPENAI_ENDPOINT,\n",
    "        credential=credential\n",
    "    )\n",
    "    \n",
    "    # Get the Azure OpenAI client from the project using the inference property\n",
    "    # This automatically handles the correct endpoint and authentication\n",
    "    eval_client = project_client.inference.get_azure_openai_client(\n",
    "        api_version='2024-10-21'\n",
    "    )\n",
    "    \n",
    "    print(f\"Testing evaluation model: {RESTAURANT_EVALUATION_MODEL}\")\n",
    "    print(f\"Project endpoint: {RESTAURANT_OPENAI_ENDPOINT}\")\n",
    "    print(f\"Using OpenAI API version: 2024-10-21\")\n",
    "    \n",
    "    # Simple test prompt\n",
    "    test_messages = [\n",
    "        {\"role\": \"user\", \"content\": \"Hello, can you respond with 'Model is working correctly'?\"}\n",
    "    ]\n",
    "    \n",
    "    response = eval_client.chat.completions.create(\n",
    "        model=RESTAURANT_EVALUATION_MODEL,\n",
    "        messages=test_messages,\n",
    "        max_tokens=50,\n",
    "        temperature=0\n",
    "    )\n",
    "    \n",
    "    print(f\"✅ Model Response: {response.choices[0].message.content}\")\n",
    "    print(\"✅ Evaluation model is working correctly!\")\n",
    "    \n",
    "except Exception as e:\n",
    "    print(f\"❌ Error testing evaluation model: {str(e)}\")\n",
    "    print(\"Please check your model configuration and credentials.\")"
   ]
  },
  {
   "cell_type": "markdown",
   "metadata": {},
   "source": [
    "## Configure Evaluators"
   ]
  },
  {
   "cell_type": "code",
   "execution_count": null,
   "metadata": {},
   "outputs": [],
   "source": [
    "model_config = AzureOpenAIModelConfiguration(\n",
    "    azure_endpoint=\"https://aipmaker-project-resource.openai.azure.com/\",\n",
    "    azure_deployment=RESTAURANT_EVALUATION_MODEL,\n",
    "    api_version=RESTAURANT_OPENAI_API_VERSION,\n",
    "    api_key=RESTAURANT_API_KEY\n",
    ")\n",
    "\n",
    "# Initialize evaluators\n",
    "try:\n",
    "    groundedness_evaluator = GroundednessEvaluator(model_config=model_config)\n",
    "    relevance_evaluator = RelevanceEvaluator(model_config=model_config)\n",
    "    coherence_evaluator = CoherenceEvaluator(model_config=model_config)\n",
    "    fluency_evaluator = FluencyEvaluator(model_config=model_config)\n",
    "    print(\"Evaluators configured successfully!\")\n",
    "except Exception as e:\n",
    "    print(f\"❌ Error configuring evaluators: {str(e)}\")\n",
    "    # Uncomment the next line to debug the error\n",
    "    # pdb.post_mortem()  # This will start debugger at the point of exception"
   ]
  },
  {
   "cell_type": "markdown",
   "metadata": {},
   "source": [
    "## Load Test Data"
   ]
  },
  {
   "cell_type": "code",
   "execution_count": null,
   "metadata": {},
   "outputs": [],
   "source": [
    "# Load the evaluation queries\n",
    "queries = []\n",
    "with open(\"small_eval_queries.jsonl\", \"r\") as f:\n",
    "    for line in f:\n",
    "        queries.append(json.loads(line.strip()))\n",
    "\n",
    "print(f\"Loaded {len(queries)} test queries\")\n",
    "print(\"Sample queries:\")\n",
    "for i in range(2):\n",
    "    print(f\"  {i+1}. {queries[i]['query']}\")"
   ]
  },
  {
   "cell_type": "markdown",
   "metadata": {},
   "source": [
    "## Run Evaluation\n",
    "\n",
    "This will evaluate the restaurant agent using all test queries and multiple evaluation metrics."
   ]
  },
  {
   "cell_type": "code",
   "execution_count": null,
   "metadata": {},
   "outputs": [],
   "source": [
    "import datetime\n",
    "\n",
    "# Azure AI project configuration for evaluation\n",
    "azure_ai_project = RESTAURANT_OPENAI_ENDPOINT\n",
    "\n",
    "# Run the evaluation\n",
    "print(\"Starting evaluation... This may take a while.\")\n",
    "\n",
    "evaluation_result = evaluate(\n",
    "    data=\"small_eval_queries.jsonl\",\n",
    "    target=query_restaurant_agent,\n",
    "    evaluators={\n",
    "        #\"groundedness\": groundedness_evaluator,\n",
    "        \"relevance\": relevance_evaluator,\n",
    "        \"coherence\": coherence_evaluator,\n",
    "        \"fluency\": fluency_evaluator,\n",
    "    },\n",
    "    azure_ai_project=azure_ai_project,\n",
    "    evaluation_name=\"restaurant_evaluation_\"+datetime.datetime.now().strftime(\"%Y%m%d_%H%M%S\"),\n",
    ")\n",
    "\n",
    "print(\"Evaluation completed!\")\n",
    "print(f\"Azure AI Foundry Studio URL: {evaluation_result.get('studio_url')}\")"
   ]
  },
  {
   "cell_type": "markdown",
   "metadata": {},
   "source": [
    "## Display Results"
   ]
  },
  {
   "cell_type": "code",
   "execution_count": null,
   "metadata": {},
   "outputs": [],
   "source": [
    "# Display evaluation metrics\n",
    "print(\"Evaluation Metrics:\")\n",
    "print(\"=\" * 50)\n",
    "\n",
    "metrics = evaluation_result.get(\"metrics\", {})\n",
    "for metric_name, metric_value in metrics.items():\n",
    "    print(f\"{metric_name}: {metric_value:.4f}\")\n",
    "\n",
    "print(\"\\nDetailed results are available in Azure AI Foundry Studio.\")"
   ]
  },
  {
   "cell_type": "markdown",
   "metadata": {},
   "source": [
    "## Sample Results Analysis\n",
    "\n",
    "Let's look at a few specific examples to understand how the agent performs."
   ]
  },
  {
   "cell_type": "code",
   "execution_count": null,
   "metadata": {},
   "outputs": [],
   "source": [
    "# Test a few specific queries to see the responses\n",
    "sample_queries = [\n",
    "    \"What are the opening hours for Scheibmeir's restaurant?\",\n",
    "    \"What steaks does Scheibmeir's serve?\",\n",
    "    \"How do I cook pasta?\",  # Non-restaurant query\n",
    "    \"What's the weather like today?\",  # Non-restaurant query\n",
    "    \"Does Scheibmeir's serve Chinese food?\",\n",
    "]\n",
    "\n",
    "print(\"Sample Agent Responses:\")\n",
    "print(\"=\" * 60)\n",
    "\n",
    "for i, query in enumerate(sample_queries, 1):\n",
    "    print(f\"\\n{i}. Query: {query}\")\n",
    "    result = query_restaurant_agent(query)\n",
    "    print(f\"   Response: {result['response'][:300]}{'...' if len(result['response']) > 300 else ''}\")\n",
    "    print(\"-\" * 60)"
   ]
  },
  {
   "cell_type": "markdown",
   "metadata": {},
   "source": [
    "## Summary\n",
    "\n",
    "This evaluation notebook:\n",
    "1. Tests the restaurant agent with 250 diverse queries\n",
    "2. Evaluates responses using multiple AI-assisted metrics (groundedness, relevance, coherence, fluency)\n",
    "3. Provides detailed results in Azure AI Foundry Studio\n",
    "4. Shows sample responses to understand agent behavior\n",
    "\n",
    "The evaluation helps assess:\n",
    "- How well the agent answers questions about Scheibmeir's restaurant using the grounded PDF data\n",
    "- Whether the agent stays on topic and handles non-restaurant queries appropriately\n",
    "- The quality and coherence of the agent's responses\n",
    "- Overall performance across different types of queries"
   ]
  }
 ],
 "metadata": {
  "kernelspec": {
   "display_name": "venv (3.13.5)",
   "language": "python",
   "name": "python3"
  },
  "language_info": {
   "codemirror_mode": {
    "name": "ipython",
    "version": 3
   },
   "file_extension": ".py",
   "mimetype": "text/x-python",
   "name": "python",
   "nbconvert_exporter": "python",
   "pygments_lexer": "ipython3",
   "version": "3.13.6"
  }
 },
 "nbformat": 4,
 "nbformat_minor": 4
}
