{
 "cells": [
  {
   "cell_type": "markdown",
   "metadata": {},
   "source": [
    "# Restaurant Agent Evaluation\n",
    "\n",
    "This notebook evaluates the Scheibmeir's restaurant agent using a comprehensive set of test queries.\n",
    "The evaluation includes both questions about Scheibmeir's restaurant (based on the grounded PDFs) and general questions to test the agent's ability to stay on topic."
   ]
  },
  {
   "cell_type": "markdown",
   "metadata": {},
   "source": [
    "## Setup and Configuration"
   ]
  },
  {
   "cell_type": "code",
   "execution_count": null,
   "metadata": {},
   "outputs": [],
   "source": [
    "import os\n",
    "import json\n",
    "from dotenv import load_dotenv\n",
    "from azure.ai.evaluation import evaluate\n",
    "from azure.ai.evaluation import (\n",
    "    GroundednessEvaluator,\n",
    "    RelevanceEvaluator,\n",
    "    CoherenceEvaluator,\n",
    "    FluencyEvaluator,\n",
    "    AzureOpenAIModelConfiguration\n",
    ")\n",
    "from azure.ai.agents import AgentsClient\n",
    "from azure.identity import AzureCliCredential\n",
    "\n",
    "# Load environment variables from .env file\n",
    "load_dotenv(override=True)\n",
    "\n",
    "print(\"Libraries imported successfully!\")"
   ]
  },
  {
   "cell_type": "code",
   "execution_count": null,
   "metadata": {},
   "outputs": [],
   "source": [
    "# Configuration from environment variables\n",
    "RESTAURANT_ASSISTANT_ID = os.getenv(\"RESTAURANT_ASSISTANT_ID\")\n",
    "RESTAURANT_ASSISTANT_MODEL = os.getenv(\"RESTAURANT_ASSISTANT_MODEL\")\n",
    "RESTAURANT_EVALUATION_MODEL = os.getenv(\"RESTAURANT_EVALUATION_MODEL\")\n",
    "RESTAURANT_ASSISTANT_PROJECT = os.getenv(\"RESTAURANT_ASSISTANT_PROJECT\")\n",
    "\n",
    "# Azure OpenAI configuration for evaluators - using restaurant project\n",
    "RESTAURANT_OPENAI_ENDPOINT = os.getenv(\"RESTAURANT_ASSISTANT_PROJECT\")\n",
    "RESTAURANT_OPENAI_API_VERSION = os.getenv(\"RESTAURANT_OPENAI_API_VERSION\", \"2025-01-01-preview\")\n",
    "RESTAURANT_API_KEY = os.getenv(\"RESTAURANT_API_KEY\")\n",
    "RESTAURANT_MODEL_DEPLOYMENT_NAME = os.getenv(\"RESTAURANT_EVALUATION_MODEL\")\n",
    "RESTAURANT_EVALUATION_MODEL_ENDPOINT = os.getenv(\"RESTAURANT_EVALUATION_MODEL_ENDPOINT\")\n",
    "\n",
    "# Azure AI project configuration - using restaurant project\n",
    "RESTAURANT_SUBSCRIPTION_ID = os.getenv(\"RESTAURANT_SUBSCRIPTION_ID\")\n",
    "RESTAURANT_RESOURCE_GROUP_NAME = os.getenv(\"RESTAURANT_RESOURCE_GROUP\")\n",
    "RESTAURANT_PROJECT_NAME = os.getenv(\"RESTAURANT_PROJECT_NAME\")\n",
    "\n",
    "print(f\"Restaurant Assistant ID: {RESTAURANT_ASSISTANT_ID}\")\n",
    "print(f\"Restaurant Assistant Model: {RESTAURANT_ASSISTANT_MODEL}\")\n",
    "print(f\"Restaurant Evaluation Model: {RESTAURANT_EVALUATION_MODEL}\")\n",
    "print(f\"Restaurant Evaluation Endpoint: {RESTAURANT_EVALUATION_MODEL_ENDPOINT}\")\n",
    "print(f\"Restaurant OpenAI Endpoint: {RESTAURANT_OPENAI_ENDPOINT}\")\n",
    "#print(f\"Restaurant API Key: {RESTAURANT_API_KEY}\")\n",
    "print(f\"Restaurant OpenAI API Version: {RESTAURANT_OPENAI_API_VERSION}\")\n",
    "print(f\"Restaurant Project: {RESTAURANT_PROJECT_NAME}\")\n",
    "print(f\"Restaurant Subscription: {RESTAURANT_SUBSCRIPTION_ID}\")\n",
    "print(f\"Restaurant Resource Group: {RESTAURANT_RESOURCE_GROUP_NAME}\")"
   ]
  },
  {
   "cell_type": "code",
   "execution_count": null,
   "metadata": {},
   "outputs": [],
   "source": [
    "# Reload configuration from environment variables (fresh from .env file)\n",
    "RESTAURANT_ASSISTANT_ID = os.getenv(\"RESTAURANT_ASSISTANT_ID\")\n",
    "RESTAURANT_ASSISTANT_MODEL = os.getenv(\"RESTAURANT_ASSISTANT_MODEL\")\n",
    "RESTAURANT_EVALUATION_MODEL = os.getenv(\"RESTAURANT_EVALUATION_MODEL\")\n",
    "RESTAURANT_ASSISTANT_PROJECT = os.getenv(\"RESTAURANT_ASSISTANT_PROJECT\")\n",
    "\n",
    "# Azure OpenAI configuration for evaluators - using restaurant project\n",
    "RESTAURANT_OPENAI_ENDPOINT = os.getenv(\"RESTAURANT_ASSISTANT_PROJECT\")\n",
    "RESTAURANT_OPENAI_API_VERSION = os.getenv(\"RESTAURANT_OPENAI_API_VERSION\", \"2025-01-01-preview\")\n",
    "RESTAURANT_MODEL_DEPLOYMENT_NAME = os.getenv(\"RESTAURANT_EVALUATION_MODEL\")\n",
    "\n",
    "# Azure AI project configuration - using restaurant project\n",
    "RESTAURANT_SUBSCRIPTION_ID = os.getenv(\"RESTAURANT_SUBSCRIPTION_ID\")\n",
    "RESTAURANT_RESOURCE_GROUP_NAME = os.getenv(\"RESTAURANT_RESOURCE_GROUP\")\n",
    "RESTAURANT_PROJECT_NAME = os.getenv(\"RESTAURANT_PROJECT_NAME\")\n",
    "\n",
    "print(\"✅ Configuration reloaded from .env file!\")\n",
    "print(f\"Restaurant Assistant ID: {RESTAURANT_ASSISTANT_ID}\")\n",
    "print(f\"Restaurant Assistant Model: {RESTAURANT_ASSISTANT_MODEL}\")\n",
    "print(f\"Restaurant Evaluation Model: {RESTAURANT_EVALUATION_MODEL}\")\n",
    "print(f\"Restaurant OpenAI Endpoint: {RESTAURANT_OPENAI_ENDPOINT}\")\n",
    "print(f\"Restaurant OpenAI API Version: {RESTAURANT_OPENAI_API_VERSION}\")  # This should now show 2025-01-01-preview\n",
    "print(f\"Restaurant Project: {RESTAURANT_PROJECT_NAME}\")\n",
    "print(f\"Restaurant Subscription: {RESTAURANT_SUBSCRIPTION_ID}\")\n",
    "print(f\"Restaurant Resource Group: {RESTAURANT_RESOURCE_GROUP_NAME}\")"
   ]
  },
  {
   "cell_type": "markdown",
   "metadata": {},
   "source": [
    "## Initialize Agents Client"
   ]
  },
  {
   "cell_type": "code",
   "execution_count": null,
   "metadata": {},
   "outputs": [],
   "source": [
    "# Initialize the Agents client with Azure CLI credentials\n",
    "credential = AzureCliCredential()\n",
    "agents_client = AgentsClient(\n",
    "    endpoint=RESTAURANT_ASSISTANT_PROJECT,\n",
    "    credential=credential\n",
    ")\n",
    "\n",
    "print(\"Agents client initialized successfully with Azure CLI authentication!\")"
   ]
  },
  {
   "cell_type": "markdown",
   "metadata": {},
   "source": [
    "## Define Target Function for Evaluation\n",
    "\n",
    "This function will be called by the evaluator for each test query."
   ]
  },
  {
   "cell_type": "code",
   "execution_count": null,
   "metadata": {},
   "outputs": [],
   "source": [
    "from azure.ai.agents.models import (\n",
    "    FilePurpose,\n",
    "    FileSearchTool,\n",
    "    ListSortOrder,\n",
    "    RunAdditionalFieldList,\n",
    "    RunStepFileSearchToolCall,\n",
    "    RunStepToolCallDetails,\n",
    ")\n",
    "\n",
    "def query_restaurant_agent(query: str) -> dict:\n",
    "    try:\n",
    "        agents_client.get_agent(RESTAURANT_ASSISTANT_ID)\n",
    "        thread = agents_client.threads.create()\n",
    "        message = agents_client.messages.create(\n",
    "            thread_id=thread.id,\n",
    "            content=query,\n",
    "            role=\"user\"\n",
    "        )\n",
    "        run = agents_client.runs.create_and_process(\n",
    "            thread_id=thread.id,\n",
    "            agent_id=RESTAURANT_ASSISTANT_ID,\n",
    "        )\n",
    "        print(f\"Run finished with status: {run.status}\")\n",
    "\n",
    "        all_text = \"\"\n",
    "\n",
    "        for run_step in agents_client.run_steps.list(\n",
    "            thread_id=thread.id, run_id=run.id, include=[RunAdditionalFieldList.FILE_SEARCH_CONTENTS]\n",
    "        ):\n",
    "            if isinstance(run_step.step_details, RunStepToolCallDetails):\n",
    "                for tool_call in run_step.step_details.tool_calls:\n",
    "                    if (\n",
    "                        isinstance(tool_call, RunStepFileSearchToolCall)\n",
    "                        and tool_call.file_search\n",
    "                        and tool_call.file_search.results\n",
    "                        and tool_call.file_search.results[0].content\n",
    "                        and tool_call.file_search.results[0].content[0].text\n",
    "                    ):\n",
    "                        # Store the union of all of the contents' text\n",
    "                        all_text = \"\\n\".join(\n",
    "                            content.text for content in tool_call.file_search.results[0].content\n",
    "                        )\n",
    "\n",
    "        messages = agents_client.messages.list(thread_id=thread.id, order=ListSortOrder.ASCENDING)\n",
    "\n",
    "        messages_list = list(messages)\n",
    "\n",
    "        print(f\"DEBUG: Found {len(messages_list)} messages\")\n",
    "        \n",
    "        for i, msg in enumerate(messages_list):\n",
    "            print(f\"DEBUG: Message {i}: role={msg.role}, content_type={type(msg.content)}\")\n",
    "            if msg.role == \"assistant\":  # Assistant role for agent responses\n",
    "                if msg.content and len(msg.content) > 0:\n",
    "                    print(f\"DEBUG: Content type: {type(msg.content[0])}\")\n",
    "                    if hasattr(msg.content[0], 'text'):\n",
    "                        return {\n",
    "                            \"response\": msg.content[0].text.value,\n",
    "                            \"query\": query,\n",
    "                            \"context\": all_text\n",
    "                        }\n",
    "                    elif hasattr(msg.content[0], 'value'):\n",
    "                        return {\n",
    "                            \"response\": msg.content[0].value,\n",
    "                            \"query\": query,\n",
    "                            \"context\": all_text\n",
    "                        }\n",
    "    except Exception as e:\n",
    "        print(f\"Error querying agent: {str(e)}\")\n",
    "        return {\n",
    "            \"response\": f\"Error querying agent: {str(e)}\",\n",
    "            \"query\": query\n",
    "        }\n",
    "        \n",
    "# Test the function with a sample query\n",
    "test_result = query_restaurant_agent(\"What are the opening hours for Scheibmeir's?\")\n",
    "print(\"Test query result:\")\n",
    "print(f\"Query: {test_result['query']}\")\n",
    "print(f\"Response: {test_result['response'][:200]}...\")\n",
    "# if there's a context key, print it\n",
    "if 'context' in test_result:\n",
    "    print(f\"Context: {test_result['context'][:200]}...\")"
   ]
  },
  {
   "cell_type": "markdown",
   "metadata": {},
   "source": [
    "## Configure Evaluators"
   ]
  },
  {
   "cell_type": "code",
   "execution_count": null,
   "metadata": {},
   "outputs": [],
   "source": [
    "model_config = AzureOpenAIModelConfiguration(\n",
    "    azure_endpoint=RESTAURANT_EVALUATION_MODEL_ENDPOINT,\n",
    "    azure_deployment=RESTAURANT_EVALUATION_MODEL,\n",
    "    api_version=RESTAURANT_OPENAI_API_VERSION,\n",
    "    api_key=RESTAURANT_API_KEY\n",
    ")\n",
    "\n",
    "# Initialize evaluators\n",
    "try:\n",
    "    groundedness_evaluator = GroundednessEvaluator(model_config=model_config)\n",
    "    relevance_evaluator = RelevanceEvaluator(model_config=model_config)\n",
    "    coherence_evaluator = CoherenceEvaluator(model_config=model_config)\n",
    "    fluency_evaluator = FluencyEvaluator(model_config=model_config)\n",
    "    print(\"Evaluators configured successfully!\")\n",
    "except Exception as e:\n",
    "    print(f\"❌ Error configuring evaluators: {str(e)}\")"
   ]
  },
  {
   "cell_type": "markdown",
   "metadata": {},
   "source": [
    "## Run Evaluation\n",
    "\n",
    "This will evaluate the restaurant agent using all test queries and multiple evaluation metrics."
   ]
  },
  {
   "cell_type": "code",
   "execution_count": null,
   "metadata": {},
   "outputs": [],
   "source": [
    "import datetime\n",
    "\n",
    "# Azure AI project configuration for evaluation\n",
    "azure_ai_project = RESTAURANT_OPENAI_ENDPOINT\n",
    "\n",
    "# Run the evaluation\n",
    "print(\"Starting evaluation... This may take a while.\")\n",
    "\n",
    "evaluation_result = evaluate(\n",
    "    data=\"evaluation_queries.jsonl\",\n",
    "    target=query_restaurant_agent,\n",
    "    evaluators={\n",
    "        \"groundedness\": groundedness_evaluator,\n",
    "        \"relevance\": relevance_evaluator,\n",
    "        \"coherence\": coherence_evaluator,\n",
    "        \"fluency\": fluency_evaluator,\n",
    "    },\n",
    "    azure_ai_project=azure_ai_project,\n",
    "    evaluation_name=\"restaurant_evaluation_\"+datetime.datetime.now().strftime(\"%Y%m%d_%H%M%S\"),\n",
    ")\n",
    "\n",
    "print(\"Evaluation completed!\")\n",
    "print(f\"Azure AI Foundry Studio URL: {evaluation_result.get('studio_url')}\")"
   ]
  },
  {
   "cell_type": "markdown",
   "metadata": {},
   "source": [
    "## Display Results"
   ]
  },
  {
   "cell_type": "code",
   "execution_count": null,
   "metadata": {},
   "outputs": [],
   "source": [
    "# Display evaluation metrics\n",
    "print(\"Evaluation Metrics:\")\n",
    "print(\"=\" * 50)\n",
    "\n",
    "metrics = evaluation_result.get(\"metrics\", {})\n",
    "for metric_name, metric_value in metrics.items():\n",
    "    print(f\"{metric_name}: {metric_value:.4f}\")\n",
    "\n",
    "print(\"\\nDetailed results are available in Azure AI Foundry Studio.\")"
   ]
  },
  {
   "cell_type": "markdown",
   "metadata": {},
   "source": [
    "## Summary\n",
    "\n",
    "This evaluation notebook:\n",
    "1. Tests the restaurant agent with 250 diverse queries\n",
    "2. Evaluates responses using multiple AI-assisted metrics (groundedness, relevance, coherence, fluency)\n",
    "3. Provides detailed results in Azure AI Foundry Studio\n",
    "4. Shows sample responses to understand agent behavior\n",
    "\n",
    "The evaluation helps assess:\n",
    "- How well the agent answers questions about Scheibmeir's restaurant using the grounded PDF data\n",
    "- Whether the agent stays on topic and handles non-restaurant queries appropriately\n",
    "- The quality and coherence of the agent's responses\n",
    "- Overall performance across different types of queries"
   ]
  }
 ],
 "metadata": {
  "kernelspec": {
   "display_name": "venv (3.13.5)",
   "language": "python",
   "name": "python3"
  },
  "language_info": {
   "codemirror_mode": {
    "name": "ipython",
    "version": 3
   },
   "file_extension": ".py",
   "mimetype": "text/x-python",
   "name": "python",
   "nbconvert_exporter": "python",
   "pygments_lexer": "ipython3",
   "version": "3.13.5"
  }
 },
 "nbformat": 4,
 "nbformat_minor": 4
}
