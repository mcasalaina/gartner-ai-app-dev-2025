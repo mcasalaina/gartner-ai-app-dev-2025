{
 "cells": [
  {
   "cell_type": "markdown",
   "metadata": {},
   "source": [
    "# Restaurant Agent Red Team Evaluation\n",
    "\n",
    "This notebook performs red team evaluation on the Scheibmeir's restaurant agent to assess its safety and resilience against adversarial attacks.\n",
    "It uses Azure AI Evaluation's Red Team functionality to test the agent across different risk categories."
   ]
  },
  {
   "cell_type": "markdown",
   "metadata": {},
   "source": [
    "## Setup and Configuration"
   ]
  },
  {
   "cell_type": "code",
   "execution_count": 1,
   "metadata": {},
   "outputs": [
    {
     "name": "stdout",
     "output_type": "stream",
     "text": [
      "Libraries imported successfully!\n"
     ]
    }
   ],
   "source": [
    "import os\n",
    "import asyncio\n",
    "from typing import Dict, List, Optional, Any\n",
    "from dotenv import load_dotenv\n",
    "from azure.ai.evaluation.red_team import RedTeam, RiskCategory, AttackStrategy\n",
    "from azure.ai.agents import AgentsClient\n",
    "from azure.identity import DefaultAzureCredential\n",
    "\n",
    "# Load environment variables from .env file\n",
    "load_dotenv()\n",
    "\n",
    "print(\"Libraries imported successfully!\")"
   ]
  },
  {
   "cell_type": "code",
   "execution_count": 2,
   "metadata": {},
   "outputs": [
    {
     "name": "stdout",
     "output_type": "stream",
     "text": [
      "Restaurant Assistant ID: asst_eJv1oQY8pHlj3mgXyV2sLCYG\n",
      "Restaurant Project URL: https://aipmaker-project-resource.services.ai.azure.com/api/projects/aipmaker-project\n"
     ]
    }
   ],
   "source": [
    "# Configuration from environment variables\n",
    "RESTAURANT_ASSISTANT_ID = os.getenv(\"RESTAURANT_ASSISTANT_ID\")\n",
    "RESTAURANT_ASSISTANT_PROJECT = os.getenv(\"RESTAURANT_ASSISTANT_PROJECT\")\n",
    "\n",
    "print(f\"Restaurant Assistant ID: {RESTAURANT_ASSISTANT_ID}\")\n",
    "print(f\"Restaurant Project URL: {RESTAURANT_ASSISTANT_PROJECT}\")"
   ]
  },
  {
   "cell_type": "markdown",
   "metadata": {},
   "source": [
    "## Initialize Clients"
   ]
  },
  {
   "cell_type": "code",
   "execution_count": 3,
   "metadata": {},
   "outputs": [
    {
     "name": "stdout",
     "output_type": "stream",
     "text": [
      "Clients initialized successfully!\n"
     ]
    }
   ],
   "source": [
    "# Initialize Azure credential\n",
    "credential = DefaultAzureCredential()\n",
    "\n",
    "# Initialize the Agents client\n",
    "agents_client = AgentsClient(\n",
    "    endpoint=RESTAURANT_ASSISTANT_PROJECT,\n",
    "    credential=credential\n",
    ")\n",
    "\n",
    "print(\"Clients initialized successfully!\")"
   ]
  },
  {
   "cell_type": "markdown",
   "metadata": {},
   "source": [
    "## Define Target Callback for Red Team Testing\n",
    "\n",
    "This callback function will be used by the Red Team to test the restaurant agent."
   ]
  },
  {
   "cell_type": "code",
   "execution_count": 4,
   "metadata": {},
   "outputs": [
    {
     "name": "stdout",
     "output_type": "stream",
     "text": [
      "Restaurant agent callback function defined!\n"
     ]
    }
   ],
   "source": [
    "async def restaurant_agent_callback(\n",
    "    messages: list,\n",
    "    stream: Optional[bool] = False,\n",
    "    session_state: Optional[str] = None,\n",
    "    context: Optional[Dict[str, Any]] = None,\n",
    ") -> Dict[str, List[Dict[str, str]]]:\n",
    "    \"\"\"\n",
    "    Callback function that interfaces with the restaurant agent.\n",
    "    This function will be called by the Red Team evaluation framework.\n",
    "    \"\"\"\n",
    "    try:\n",
    "        # Extract the latest message from the conversation history\n",
    "        latest_message = messages[-1].content if messages else \"Hello\"\n",
    "        \n",
    "        # Create a thread and run in one step\n",
    "        result = agents_client.create_thread_and_process_run(\n",
    "            agent_id=RESTAURANT_ASSISTANT_ID,\n",
    "            thread={\n",
    "                \"messages\": [\n",
    "                    {\n",
    "                        \"role\": \"user\",\n",
    "                        \"content\": latest_message\n",
    "                    }\n",
    "                ]\n",
    "            }\n",
    "        )\n",
    "        \n",
    "        if result.status.value == \"completed\":\n",
    "            # Get messages from the thread\n",
    "            agent_messages = agents_client.messages.list(thread_id=result.thread_id)\n",
    "            \n",
    "            # Find the agent's response\n",
    "            for msg in agent_messages:\n",
    "                if msg.role.value == \"agent\":\n",
    "                    formatted_response = {\n",
    "                        \"content\": msg.content[0].text.value,\n",
    "                        \"role\": \"assistant\"\n",
    "                    }\n",
    "                    return {\"messages\": [formatted_response]}\n",
    "        \n",
    "        # If no agent response found or run failed\n",
    "        error_response = {\n",
    "            \"content\": f\"I encountered an error processing your request. Status: {result.status.value}\",\n",
    "            \"role\": \"assistant\"\n",
    "        }\n",
    "        return {\"messages\": [error_response]}\n",
    "        \n",
    "    except Exception as e:\n",
    "        error_response = {\n",
    "            \"content\": f\"I encountered an error and couldn't process your request: {str(e)}\",\n",
    "            \"role\": \"assistant\"\n",
    "        }\n",
    "        return {\"messages\": [error_response]}\n",
    "\n",
    "print(\"Restaurant agent callback function defined!\")"
   ]
  },
  {
   "cell_type": "markdown",
   "metadata": {},
   "source": [
    "## Initialize Red Team Evaluator"
   ]
  },
  {
   "cell_type": "code",
   "execution_count": 6,
   "metadata": {},
   "outputs": [
    {
     "name": "stdout",
     "output_type": "stream",
     "text": [
      "Red Team evaluator initialized!\n"
     ]
    }
   ],
   "source": [
    "# Azure AI project endpoint for red team\n",
    "azure_ai_project = RESTAURANT_ASSISTANT_PROJECT\n",
    "\n",
    "# Create the RedTeam instance with specific risk categories relevant to a restaurant agent\n",
    "red_team = RedTeam(\n",
    "    azure_ai_project=azure_ai_project,\n",
    "    credential=credential,\n",
    "    risk_categories=[\n",
    "        RiskCategory.Violence,\n",
    "        RiskCategory.HateUnfairness,\n",
    "        RiskCategory.Sexual,\n",
    "        RiskCategory.SelfHarm\n",
    "    ],\n",
    "    num_objectives=3,  # Number of attack objectives per risk category\n",
    ")\n",
    "\n",
    "print(\"Red Team evaluator initialized!\")\n",
    "#print(f\"Risk categories: {[cat.value for cat in red_team._risk_categories]}\")\n",
    "#print(f\"Number of objectives per category: {red_team._num_objectives}\")"
   ]
  },
  {
   "cell_type": "markdown",
   "metadata": {},
   "source": [
    "## Run Basic Red Team Scan\n",
    "\n",
    "This performs a basic red team evaluation using simple attack strategies."
   ]
  },
  {
   "cell_type": "code",
   "execution_count": 8,
   "metadata": {},
   "outputs": [
    {
     "name": "stdout",
     "output_type": "stream",
     "text": [
      "Starting basic red team scan...\n",
      "This may take several minutes to complete.\n",
      "🚀 STARTING RED TEAM SCAN: Restaurant-Agent-Basic-Red-Team\n",
      "📂 Output directory: .\\.scan_Restaurant-Agent-Basic-Red-Team_20250811_201108\n",
      "📊 Risk categories: ['violence', 'hate_unfairness', 'sexual', 'self_harm']\n",
      "🔗 Track your red team scan in AI Foundry: https://ai.azure.com/resource/build/redteaming/8b6701ce-1b78-43e1-bdb3-218bf8ae0953?wsid=/subscriptions/21039746-6e73-4627-88af-efa80f856c2c/resourceGroups/rg-AIPMaker/providers/Microsoft.CognitiveServices/accounts/aipmaker-project-resource/projects/aipmaker-project&tid=72f988bf-86f1-41af-91ab-2d7cd011db47\n",
      "📋 Planning 4 total tasks\n",
      "🔗 Track your red team scan in AI Foundry: https://ai.azure.com/resource/build/redteaming/8b6701ce-1b78-43e1-bdb3-218bf8ae0953?wsid=/subscriptions/21039746-6e73-4627-88af-efa80f856c2c/resourceGroups/rg-AIPMaker/providers/Microsoft.CognitiveServices/accounts/aipmaker-project-resource/projects/aipmaker-project&tid=72f988bf-86f1-41af-91ab-2d7cd011db47\n",
      "📋 Planning 4 total tasks\n"
     ]
    },
    {
     "name": "stderr",
     "output_type": "stream",
     "text": [
      "Scanning:   0%|                         | 0/4 [00:00<?, ?scan/s, current=fetching baseline/violence]"
     ]
    },
    {
     "name": "stdout",
     "output_type": "stream",
     "text": [
      "📚 Using attack objectives from Azure RAI service\n"
     ]
    },
    {
     "name": "stderr",
     "output_type": "stream",
     "text": [
      "Scanning:   0%|                  | 0/4 [00:04<?, ?scan/s, current=fetching baseline/hate_unfairness]"
     ]
    },
    {
     "name": "stdout",
     "output_type": "stream",
     "text": [
      "📝 Fetched baseline objectives for violence: 3 objectives\n"
     ]
    },
    {
     "name": "stderr",
     "output_type": "stream",
     "text": [
      "Scanning:   0%|                           | 0/4 [00:04<?, ?scan/s, current=fetching baseline/sexual]"
     ]
    },
    {
     "name": "stdout",
     "output_type": "stream",
     "text": [
      "📝 Fetched baseline objectives for hate_unfairness: 3 objectives\n"
     ]
    },
    {
     "name": "stderr",
     "output_type": "stream",
     "text": [
      "                                                                                                    "
     ]
    },
    {
     "name": "stdout",
     "output_type": "stream",
     "text": [
      "📝 Fetched baseline objectives for sexual: 3 objectives\n",
      "📝 Fetched baseline objectives for self_harm: 3 objectives\n"
     ]
    },
    {
     "name": "stderr",
     "output_type": "stream",
     "text": [
      "Scanning:   0%|                                          | 0/4 [00:05<?, ?scan/s, current=batch 1/1]"
     ]
    },
    {
     "name": "stdout",
     "output_type": "stream",
     "text": [
      "⚙️ Processing 4 tasks in parallel (max 5 at a time)\n",
      "▶️ Starting task: baseline strategy for violence risk category\n",
      "▶️ Starting task: baseline strategy for hate_unfairness risk category\n",
      "▶️ Starting task: baseline strategy for sexual risk category\n",
      "▶️ Starting task: baseline strategy for self_harm risk category\n"
     ]
    },
    {
     "name": "stderr",
     "output_type": "stream",
     "text": [
      "Scanning:  75%|████████████████████████▊        | 3/4 [04:56<04:56, 296.19s/scan, current=batch 1/1]"
     ]
    },
    {
     "name": "stdout",
     "output_type": "stream",
     "text": [
      "Evaluation results saved to \"C:\\src\\gartner-ai-app-dev-2025\\.scan_Restaurant-Agent-Basic-Red-Team_20250811_201108\\baseline_violence_1d03fa2d-40b7-473c-8d39-19f06c63d08b.json\".\n",
      "\n",
      "✅ Completed task 1/4 (25.0%) - baseline/violence in 291.1s\n",
      "   Est. remaining: 15.1 minutes\n",
      "Evaluation results saved to \"C:\\src\\gartner-ai-app-dev-2025\\.scan_Restaurant-Agent-Basic-Red-Team_20250811_201108\\baseline_hate_unfairness_0c01aad2-90e7-4fb4-8a2f-494e53990552.json\".\n",
      "\n",
      "✅ Completed task 2/4 (50.0%) - baseline/hate_unfairness in 291.2s\n",
      "   Est. remaining: 5.0 minutes\n",
      "Evaluation results saved to \"C:\\src\\gartner-ai-app-dev-2025\\.scan_Restaurant-Agent-Basic-Red-Team_20250811_201108\\baseline_sexual_577fc85e-ae18-4e3c-ba98-188e174d3cef.json\".\n",
      "\n",
      "✅ Completed task 3/4 (75.0%) - baseline/sexual in 291.2s\n",
      "   Est. remaining: 1.7 minutes\n"
     ]
    },
    {
     "name": "stderr",
     "output_type": "stream",
     "text": [
      "Scanning: 100%|██████████████████████████████████| 4/4 [05:01<00:00, 75.26s/scan, current=batch 1/1]\n",
      "Class RedTeamResult: This is an experimental class, and may change at any time. Please see https://aka.ms/azuremlexperimental for more information.\n",
      "\n",
      "Class RedTeamResult: This is an experimental class, and may change at any time. Please see https://aka.ms/azuremlexperimental for more information.\n"
     ]
    },
    {
     "name": "stdout",
     "output_type": "stream",
     "text": [
      "Evaluation results saved to \"C:\\src\\gartner-ai-app-dev-2025\\.scan_Restaurant-Agent-Basic-Red-Team_20250811_201108\\baseline_self_harm_738a71fa-cead-4737-8453-e73f8a5bbdb7.json\".\n",
      "\n",
      "✅ Completed task 4/4 (100.0%) - baseline/self_harm in 296.0s\n",
      "   Est. remaining: 0.0 minutes\n",
      "Evaluation results saved to \"C:\\src\\gartner-ai-app-dev-2025\\basic_red_team_results.json\".\n",
      "\n",
      "Evaluation results saved to \"C:\\src\\gartner-ai-app-dev-2025\\.scan_Restaurant-Agent-Basic-Red-Team_20250811_201108\\final_results.json\".\n",
      "\n",
      "Overall ASR: 0.0%\n",
      "Attack Success: 0/12 attacks were successful\n",
      "------------------------------------------------------------------------------------------------------------------------------------\n",
      "Risk Category     | Baseline ASR   | Easy-Complexity Attacks ASR  | Moderate-Complexity Attacks ASR | Difficult-Complexity Attacks ASR\n",
      "------------------------------------------------------------------------------------------------------------------------------------\n",
      "Violence          | 0.0%           | N/A                          | N/A                             | N/A                           \n",
      "Hate-unfairness   | 0.0%           | N/A                          | N/A                             | N/A                           \n",
      "Sexual            | 0.0%           | N/A                          | N/A                             | N/A                           \n",
      "Self-harm         | 0.0%           | N/A                          | N/A                             | N/A                           \n",
      "\n",
      "Detailed results available at:\n",
      "https://ai.azure.com/resource/build/redteaming/8b6701ce-1b78-43e1-bdb3-218bf8ae0953?wsid=/subscriptions/21039746-6e73-4627-88af-efa80f856c2c/resourceGroups/rg-AIPMaker/providers/Microsoft.CognitiveServices/accounts/aipmaker-project-resource/projects/aipmaker-project&tid=72f988bf-86f1-41af-91ab-2d7cd011db47\n",
      "\n",
      "📂 All scan files saved to: .\\.scan_Restaurant-Agent-Basic-Red-Team_20250811_201108\n",
      "✅ Scan completed successfully!\n",
      "Basic red team scan completed!\n",
      "Results saved to: basic_red_team_results.json\n"
     ]
    }
   ],
   "source": [
    "# Run a basic red team scan\n",
    "print(\"Starting basic red team scan...\")\n",
    "print(\"This may take several minutes to complete.\")\n",
    "\n",
    "basic_result = await red_team.scan(\n",
    "    target=restaurant_agent_callback,\n",
    "    scan_name=\"Restaurant-Agent-Basic-Red-Team\",\n",
    "    # Baseline attack strategy only (baseline is included by default)\n",
    "    output_path=\"basic_red_team_results.json\",\n",
    ")\n",
    "\n",
    "print(\"Basic red team scan completed!\")\n",
    "print(\"Results saved to: basic_red_team_results.json\")"
   ]
  },
  {
   "cell_type": "markdown",
   "metadata": {},
   "source": [
    "## Run Advanced Red Team Scan\n",
    "\n",
    "This performs a more comprehensive red team evaluation with multiple attack strategies."
   ]
  },
  {
   "cell_type": "code",
   "execution_count": 9,
   "metadata": {},
   "outputs": [
    {
     "name": "stdout",
     "output_type": "stream",
     "text": [
      "Starting advanced red team scan with comprehensive strategies...\n",
      "🚀 STARTING RED TEAM SCAN: Restaurant-Agent-Advanced-Red-Team\n",
      "📂 Output directory: .\\.scan_Restaurant-Agent-Advanced-Red-Team_20250811_201701\n",
      "📊 Risk categories: ['violence', 'hate_unfairness', 'sexual', 'self_harm']\n",
      "🔗 Track your red team scan in AI Foundry: https://ai.azure.com/resource/build/redteaming/e7bb607a-db55-43ec-91a7-d1de3eb3f20c?wsid=/subscriptions/21039746-6e73-4627-88af-efa80f856c2c/resourceGroups/rg-AIPMaker/providers/Microsoft.CognitiveServices/accounts/aipmaker-project-resource/projects/aipmaker-project&tid=72f988bf-86f1-41af-91ab-2d7cd011db47\n",
      "📋 Planning 52 total tasks\n",
      "🔗 Track your red team scan in AI Foundry: https://ai.azure.com/resource/build/redteaming/e7bb607a-db55-43ec-91a7-d1de3eb3f20c?wsid=/subscriptions/21039746-6e73-4627-88af-efa80f856c2c/resourceGroups/rg-AIPMaker/providers/Microsoft.CognitiveServices/accounts/aipmaker-project-resource/projects/aipmaker-project&tid=72f988bf-86f1-41af-91ab-2d7cd011db47\n",
      "📋 Planning 52 total tasks\n"
     ]
    },
    {
     "name": "stderr",
     "output_type": "stream",
     "text": [
      "Scanning:   0%|                        | 0/52 [00:00<?, ?scan/s, current=fetching baseline/violence]"
     ]
    },
    {
     "name": "stdout",
     "output_type": "stream",
     "text": [
      "📚 Using attack objectives from Azure RAI service\n"
     ]
    },
    {
     "name": "stderr",
     "output_type": "stream",
     "text": [
      "Scanning:   0%|                 | 0/52 [00:00<?, ?scan/s, current=fetching baseline/hate_unfairness]"
     ]
    },
    {
     "name": "stdout",
     "output_type": "stream",
     "text": [
      "📝 Fetched baseline objectives for violence: 3 objectives\n"
     ]
    },
    {
     "name": "stderr",
     "output_type": "stream",
     "text": [
      "Scanning:   0%|                          | 0/52 [00:01<?, ?scan/s, current=fetching baseline/sexual]"
     ]
    },
    {
     "name": "stdout",
     "output_type": "stream",
     "text": [
      "📝 Fetched baseline objectives for hate_unfairness: 3 objectives\n"
     ]
    },
    {
     "name": "stderr",
     "output_type": "stream",
     "text": [
      "Scanning:   0%|                       | 0/52 [00:01<?, ?scan/s, current=fetching baseline/self_harm]"
     ]
    },
    {
     "name": "stdout",
     "output_type": "stream",
     "text": [
      "📝 Fetched baseline objectives for sexual: 3 objectives\n"
     ]
    },
    {
     "name": "stderr",
     "output_type": "stream",
     "text": [
      "Scanning:   0%|                          | 0/52 [00:01<?, ?scan/s, current=fetching base64/violence]"
     ]
    },
    {
     "name": "stdout",
     "output_type": "stream",
     "text": [
      "📝 Fetched baseline objectives for self_harm: 3 objectives\n",
      "🔄 Fetching objectives for strategy 2/13: base64\n"
     ]
    },
    {
     "name": "stderr",
     "output_type": "stream",
     "text": [
      "Scanning:   0%|                            | 0/52 [00:02<?, ?scan/s, current=fetching flip/violence]"
     ]
    },
    {
     "name": "stdout",
     "output_type": "stream",
     "text": [
      "🔄 Fetching objectives for strategy 3/13: flip\n"
     ]
    },
    {
     "name": "stderr",
     "output_type": "stream",
     "text": [
      "Scanning:   0%|                 | 0/52 [00:03<?, ?scan/s, current=fetching character_space/violence]"
     ]
    },
    {
     "name": "stdout",
     "output_type": "stream",
     "text": [
      "🔄 Fetching objectives for strategy 4/13: character_space\n"
     ]
    },
    {
     "name": "stderr",
     "output_type": "stream",
     "text": [
      "Scanning:   0%|                           | 0/52 [00:04<?, ?scan/s, current=fetching rot13/violence]"
     ]
    },
    {
     "name": "stdout",
     "output_type": "stream",
     "text": [
      "🔄 Fetching objectives for strategy 5/13: rot13\n"
     ]
    },
    {
     "name": "stderr",
     "output_type": "stream",
     "text": [
      "Scanning:   0%|              | 0/52 [00:05<?, ?scan/s, current=fetching unicode_confusable/violence]"
     ]
    },
    {
     "name": "stdout",
     "output_type": "stream",
     "text": [
      "🔄 Fetching objectives for strategy 6/13: unicode_confusable\n"
     ]
    },
    {
     "name": "stderr",
     "output_type": "stream",
     "text": [
      "Scanning:   0%|                           | 0/52 [00:06<?, ?scan/s, current=fetching tense/violence]"
     ]
    },
    {
     "name": "stdout",
     "output_type": "stream",
     "text": [
      "🔄 Fetching objectives for strategy 7/13: tense\n"
     ]
    },
    {
     "name": "stderr",
     "output_type": "stream",
     "text": [
      "Scanning:   0%|                       | 0/52 [00:07<?, ?scan/s, current=fetching char_swap/violence]"
     ]
    },
    {
     "name": "stdout",
     "output_type": "stream",
     "text": [
      "🔄 Fetching objectives for strategy 8/13: char_swap\n"
     ]
    },
    {
     "name": "stderr",
     "output_type": "stream",
     "text": [
      "Scanning:   0%|                           | 0/52 [00:08<?, ?scan/s, current=fetching morse/violence]"
     ]
    },
    {
     "name": "stdout",
     "output_type": "stream",
     "text": [
      "🔄 Fetching objectives for strategy 9/13: morse\n"
     ]
    },
    {
     "name": "stderr",
     "output_type": "stream",
     "text": [
      "Scanning:   0%|                       | 0/52 [00:09<?, ?scan/s, current=fetching leetspeak/violence]"
     ]
    },
    {
     "name": "stdout",
     "output_type": "stream",
     "text": [
      "🔄 Fetching objectives for strategy 10/13: leetspeak\n"
     ]
    },
    {
     "name": "stderr",
     "output_type": "stream",
     "text": [
      "Scanning:   0%|                             | 0/52 [00:09<?, ?scan/s, current=fetching url/violence]"
     ]
    },
    {
     "name": "stdout",
     "output_type": "stream",
     "text": [
      "🔄 Fetching objectives for strategy 11/13: url\n"
     ]
    },
    {
     "name": "stderr",
     "output_type": "stream",
     "text": [
      "Scanning:   0%|                          | 0/52 [00:10<?, ?scan/s, current=fetching binary/violence]"
     ]
    },
    {
     "name": "stdout",
     "output_type": "stream",
     "text": [
      "🔄 Fetching objectives for strategy 12/13: binary\n"
     ]
    },
    {
     "name": "stderr",
     "output_type": "stream",
     "text": [
      "Scanning:   0%|                    | 0/52 [00:11<?, ?scan/s, current=fetching tense_base64/violence]"
     ]
    },
    {
     "name": "stdout",
     "output_type": "stream",
     "text": [
      "🔄 Fetching objectives for strategy 13/13: tense_base64\n"
     ]
    },
    {
     "name": "stderr",
     "output_type": "stream",
     "text": [
      "Scanning:   0%|                                        | 0/52 [00:12<?, ?scan/s, current=batch 1/11]"
     ]
    },
    {
     "name": "stdout",
     "output_type": "stream",
     "text": [
      "⚙️ Processing 52 tasks in parallel (max 5 at a time)\n",
      "▶️ Starting task: baseline strategy for violence risk category\n",
      "▶️ Starting task: baseline strategy for hate_unfairness risk category\n",
      "▶️ Starting task: baseline strategy for sexual risk category\n",
      "▶️ Starting task: baseline strategy for self_harm risk category\n",
      "▶️ Starting task: base64 strategy for violence risk category\n"
     ]
    },
    {
     "name": "stderr",
     "output_type": "stream",
     "text": [
      "Scanning:   8%|██▏                          | 4/52 [04:16<3:25:09, 256.45s/scan, current=batch 1/11]"
     ]
    },
    {
     "name": "stdout",
     "output_type": "stream",
     "text": [
      "Evaluation results saved to \"C:\\src\\gartner-ai-app-dev-2025\\.scan_Restaurant-Agent-Advanced-Red-Team_20250811_201701\\baseline_violence_260b69d6-a295-4d38-8932-a50deecd379a.json\".\n",
      "\n",
      "✅ Completed task 1/52 (1.9%) - baseline/violence in 243.7s\n",
      "   Est. remaining: 218.2 minutes\n",
      "Evaluation results saved to \"C:\\src\\gartner-ai-app-dev-2025\\.scan_Restaurant-Agent-Advanced-Red-Team_20250811_201701\\baseline_hate_unfairness_f5bf215b-9f1c-46dd-b8ea-d5d3a93727a4.json\".\n",
      "\n",
      "✅ Completed task 2/52 (3.8%) - baseline/hate_unfairness in 243.7s\n",
      "   Est. remaining: 107.0 minutes\n",
      "Evaluation results saved to \"C:\\src\\gartner-ai-app-dev-2025\\.scan_Restaurant-Agent-Advanced-Red-Team_20250811_201701\\baseline_sexual_fff7c46d-8449-48d0-9187-2540a06ba8a2.json\".\n",
      "\n",
      "✅ Completed task 3/52 (5.8%) - baseline/sexual in 243.7s\n",
      "   Est. remaining: 69.9 minutes\n",
      "Evaluation results saved to \"C:\\src\\gartner-ai-app-dev-2025\\.scan_Restaurant-Agent-Advanced-Red-Team_20250811_201701\\baseline_self_harm_1427bbc2-04dd-4c33-9b95-fbd0015220bd.json\".\n",
      "\n",
      "✅ Completed task 4/52 (7.7%) - baseline/self_harm in 243.7s\n",
      "   Est. remaining: 51.4 minutes\n"
     ]
    },
    {
     "name": "stderr",
     "output_type": "stream",
     "text": [
      "Scanning:  10%|███                             | 5/52 [04:16<29:57, 38.24s/scan, current=batch 2/11]"
     ]
    },
    {
     "name": "stdout",
     "output_type": "stream",
     "text": [
      "Evaluation results saved to \"C:\\src\\gartner-ai-app-dev-2025\\.scan_Restaurant-Agent-Advanced-Red-Team_20250811_201701\\base64_violence_2efa136d-7c05-42dd-b602-12e4e3cfec82.json\".\n",
      "\n",
      "✅ Completed task 5/52 (9.6%) - base64/violence in 243.8s\n",
      "   Est. remaining: 40.3 minutes\n",
      "▶️ Starting task: base64 strategy for hate_unfairness risk category\n",
      "▶️ Starting task: base64 strategy for sexual risk category\n",
      "▶️ Starting task: base64 strategy for self_harm risk category\n",
      "▶️ Starting task: flip strategy for violence risk category\n",
      "▶️ Starting task: flip strategy for hate_unfairness risk category\n"
     ]
    },
    {
     "name": "stderr",
     "output_type": "stream",
     "text": [
      "Scanning:  17%|█████▌                          | 9/52 [08:27<37:46, 52.70s/scan, current=batch 2/11]"
     ]
    },
    {
     "name": "stdout",
     "output_type": "stream",
     "text": [
      "Evaluation results saved to \"C:\\src\\gartner-ai-app-dev-2025\\.scan_Restaurant-Agent-Advanced-Red-Team_20250811_201701\\base64_hate_unfairness_fb733664-5d9d-43ac-8e47-67d0c23ec610.json\".\n",
      "\n",
      "✅ Completed task 6/52 (11.5%) - base64/hate_unfairness in 250.7s\n",
      "   Est. remaining: 64.9 minutes\n",
      "Evaluation results saved to \"C:\\src\\gartner-ai-app-dev-2025\\.scan_Restaurant-Agent-Advanced-Red-Team_20250811_201701\\base64_sexual_93dfbaa7-9b93-40d6-9a96-0623a6de82bf.json\".\n",
      "\n",
      "✅ Completed task 7/52 (13.5%) - base64/sexual in 250.7s\n",
      "   Est. remaining: 54.4 minutes\n",
      "Evaluation results saved to \"C:\\src\\gartner-ai-app-dev-2025\\.scan_Restaurant-Agent-Advanced-Red-Team_20250811_201701\\base64_self_harm_f42f6bec-8ab8-473b-a53d-25eb5c616581.json\".\n",
      "\n",
      "✅ Completed task 8/52 (15.4%) - base64/self_harm in 250.8s\n",
      "   Est. remaining: 46.5 minutes\n",
      "Evaluation results saved to \"C:\\src\\gartner-ai-app-dev-2025\\.scan_Restaurant-Agent-Advanced-Red-Team_20250811_201701\\flip_violence_a20372c0-bc50-47b2-ae83-e0dd8ea40743.json\".\n",
      "\n",
      "✅ Completed task 9/52 (17.3%) - flip/violence in 250.8s\n",
      "   Est. remaining: 40.4 minutes\n"
     ]
    },
    {
     "name": "stderr",
     "output_type": "stream",
     "text": [
      "Scanning:  19%|█████▉                         | 10/52 [08:27<23:30, 33.58s/scan, current=batch 3/11]"
     ]
    },
    {
     "name": "stdout",
     "output_type": "stream",
     "text": [
      "Evaluation results saved to \"C:\\src\\gartner-ai-app-dev-2025\\.scan_Restaurant-Agent-Advanced-Red-Team_20250811_201701\\flip_hate_unfairness_67ea9daa-8713-4717-a550-262d92ccab20.json\".\n",
      "\n",
      "✅ Completed task 10/52 (19.2%) - flip/hate_unfairness in 250.9s\n",
      "   Est. remaining: 35.6 minutes\n",
      "▶️ Starting task: flip strategy for sexual risk category\n",
      "▶️ Starting task: flip strategy for self_harm risk category\n",
      "▶️ Starting task: character_space strategy for violence risk category\n",
      "▶️ Starting task: character_space strategy for hate_unfairness risk category\n",
      "▶️ Starting task: character_space strategy for sexual risk category\n"
     ]
    },
    {
     "name": "stderr",
     "output_type": "stream",
     "text": [
      "Scanning:  27%|████████▎                      | 14/52 [11:50<23:03, 36.40s/scan, current=batch 3/11]"
     ]
    },
    {
     "name": "stdout",
     "output_type": "stream",
     "text": [
      "Evaluation results saved to \"C:\\src\\gartner-ai-app-dev-2025\\.scan_Restaurant-Agent-Advanced-Red-Team_20250811_201701\\flip_sexual_5d697c1b-f194-44e7-a1ce-19f0b9b052dd.json\".\n",
      "\n",
      "✅ Completed task 11/52 (21.2%) - flip/sexual in 203.0s\n",
      "   Est. remaining: 44.2 minutes\n",
      "Evaluation results saved to \"C:\\src\\gartner-ai-app-dev-2025\\.scan_Restaurant-Agent-Advanced-Red-Team_20250811_201701\\flip_self_harm_95ed3646-3243-4aba-9314-06c980eb444f.json\".\n",
      "\n",
      "✅ Completed task 12/52 (23.1%) - flip/self_harm in 203.1s\n",
      "   Est. remaining: 39.5 minutes\n",
      "Evaluation results saved to \"C:\\src\\gartner-ai-app-dev-2025\\.scan_Restaurant-Agent-Advanced-Red-Team_20250811_201701\\character_space_violence_c4d7f315-beed-467a-af4f-27b4a90014a1.json\".\n",
      "\n",
      "✅ Completed task 13/52 (25.0%) - character_space/violence in 203.1s\n",
      "   Est. remaining: 35.6 minutes\n",
      "Evaluation results saved to \"C:\\src\\gartner-ai-app-dev-2025\\.scan_Restaurant-Agent-Advanced-Red-Team_20250811_201701\\character_space_hate_unfairness_7ef5ce96-66c5-4921-b28f-b5d276757bfe.json\".\n",
      "\n",
      "✅ Completed task 14/52 (26.9%) - character_space/hate_unfairness in 203.1s\n",
      "   Est. remaining: 32.2 minutes\n"
     ]
    },
    {
     "name": "stderr",
     "output_type": "stream",
     "text": [
      "Scanning:  29%|████████▉                      | 15/52 [11:55<22:26, 36.40s/scan, current=batch 4/11]"
     ]
    },
    {
     "name": "stdout",
     "output_type": "stream",
     "text": [
      "Evaluation results saved to \"C:\\src\\gartner-ai-app-dev-2025\\.scan_Restaurant-Agent-Advanced-Red-Team_20250811_201701\\character_space_sexual_c5ff42d2-fe2f-4486-9ab5-1bb1150cfa92.json\".\n",
      "\n",
      "✅ Completed task 15/52 (28.8%) - character_space/sexual in 207.6s\n",
      "   Est. remaining: 29.4 minutes\n",
      "▶️ Starting task: character_space strategy for self_harm risk category\n",
      "▶️ Starting task: rot13 strategy for violence risk category\n",
      "▶️ Starting task: rot13 strategy for hate_unfairness risk category\n",
      "▶️ Starting task: rot13 strategy for sexual risk category\n",
      "▶️ Starting task: rot13 strategy for self_harm risk category\n"
     ]
    },
    {
     "name": "stderr",
     "output_type": "stream",
     "text": [
      "Scanning:  37%|███████████▎                   | 19/52 [15:17<18:53, 34.36s/scan, current=batch 4/11]"
     ]
    },
    {
     "name": "stdout",
     "output_type": "stream",
     "text": [
      "Evaluation results saved to \"C:\\src\\gartner-ai-app-dev-2025\\.scan_Restaurant-Agent-Advanced-Red-Team_20250811_201701\\character_space_self_harm_1c2f0031-4143-48e5-8b61-92f84c3cd43d.json\".\n",
      "\n",
      "✅ Completed task 16/52 (30.8%) - character_space/self_harm in 202.2s\n",
      "   Est. remaining: 34.4 minutes\n",
      "Evaluation results saved to \"C:\\src\\gartner-ai-app-dev-2025\\.scan_Restaurant-Agent-Advanced-Red-Team_20250811_201701\\rot13_violence_3daf8dc9-4bc3-44b6-bcfb-ee67ce67b3f0.json\".\n",
      "\n",
      "✅ Completed task 17/52 (32.7%) - rot13/violence in 202.2s\n",
      "   Est. remaining: 31.5 minutes\n",
      "Evaluation results saved to \"C:\\src\\gartner-ai-app-dev-2025\\.scan_Restaurant-Agent-Advanced-Red-Team_20250811_201701\\rot13_hate_unfairness_6e6fe0b8-e69e-457a-a4dd-fabfab35cf30.json\".\n",
      "\n",
      "✅ Completed task 18/52 (34.6%) - rot13/hate_unfairness in 202.3s\n",
      "   Est. remaining: 28.9 minutes\n",
      "Evaluation results saved to \"C:\\src\\gartner-ai-app-dev-2025\\.scan_Restaurant-Agent-Advanced-Red-Team_20250811_201701\\rot13_sexual_ed28b6d7-5901-4400-be55-8a46ec098b05.json\".\n",
      "\n",
      "✅ Completed task 19/52 (36.5%) - rot13/sexual in 202.3s\n",
      "   Est. remaining: 26.6 minutes\n"
     ]
    },
    {
     "name": "stderr",
     "output_type": "stream",
     "text": [
      "Scanning:  38%|███████████▉                   | 20/52 [15:22<18:19, 34.36s/scan, current=batch 5/11]"
     ]
    },
    {
     "name": "stdout",
     "output_type": "stream",
     "text": [
      "Evaluation results saved to \"C:\\src\\gartner-ai-app-dev-2025\\.scan_Restaurant-Agent-Advanced-Red-Team_20250811_201701\\rot13_self_harm_135db34c-d906-49d4-b8af-aabe88a21c3d.json\".\n",
      "\n",
      "✅ Completed task 20/52 (38.5%) - rot13/self_harm in 206.7s\n",
      "   Est. remaining: 24.6 minutes\n",
      "▶️ Starting task: unicode_confusable strategy for violence risk category\n",
      "▶️ Starting task: unicode_confusable strategy for hate_unfairness risk category\n",
      "▶️ Starting task: unicode_confusable strategy for sexual risk category\n",
      "▶️ Starting task: unicode_confusable strategy for self_harm risk category\n",
      "▶️ Starting task: tense strategy for violence risk category\n"
     ]
    },
    {
     "name": "stderr",
     "output_type": "stream",
     "text": [
      "Scanning:  46%|██████████████▎                | 24/52 [18:56<16:09, 34.62s/scan, current=batch 5/11]"
     ]
    },
    {
     "name": "stdout",
     "output_type": "stream",
     "text": [
      "Evaluation results saved to \"C:\\src\\gartner-ai-app-dev-2025\\.scan_Restaurant-Agent-Advanced-Red-Team_20250811_201701\\unicode_confusable_violence_c0b36917-ab81-4163-8c99-c6fb22ef1f82.json\".\n",
      "\n",
      "✅ Completed task 21/52 (40.4%) - unicode_confusable/violence in 214.4s\n",
      "   Est. remaining: 28.0 minutes\n",
      "Evaluation results saved to \"C:\\src\\gartner-ai-app-dev-2025\\.scan_Restaurant-Agent-Advanced-Red-Team_20250811_201701\\unicode_confusable_hate_unfairness_2c72cfba-9d70-4c72-a378-923eb3dfb335.json\".\n",
      "\n",
      "✅ Completed task 22/52 (42.3%) - unicode_confusable/hate_unfairness in 214.5s\n",
      "   Est. remaining: 25.8 minutes\n",
      "Evaluation results saved to \"C:\\src\\gartner-ai-app-dev-2025\\.scan_Restaurant-Agent-Advanced-Red-Team_20250811_201701\\unicode_confusable_sexual_f7a97f47-31d8-4a2b-88f5-5ccc276bb125.json\".\n",
      "\n",
      "✅ Completed task 23/52 (44.2%) - unicode_confusable/sexual in 214.5s\n",
      "   Est. remaining: 23.9 minutes\n",
      "Evaluation results saved to \"C:\\src\\gartner-ai-app-dev-2025\\.scan_Restaurant-Agent-Advanced-Red-Team_20250811_201701\\unicode_confusable_self_harm_dac913eb-5198-4a1d-9bac-a333711541e5.json\".\n",
      "\n",
      "✅ Completed task 24/52 (46.2%) - unicode_confusable/self_harm in 214.5s\n",
      "   Est. remaining: 22.1 minutes\n"
     ]
    },
    {
     "name": "stderr",
     "output_type": "stream",
     "text": [
      "Scanning:  48%|██████████████▉                | 25/52 [19:01<15:34, 34.62s/scan, current=batch 6/11]"
     ]
    },
    {
     "name": "stdout",
     "output_type": "stream",
     "text": [
      "Evaluation results saved to \"C:\\src\\gartner-ai-app-dev-2025\\.scan_Restaurant-Agent-Advanced-Red-Team_20250811_201701\\tense_violence_6bcc8cf2-b516-4f8c-afbc-c1e78615ae17.json\".\n",
      "\n",
      "✅ Completed task 25/52 (48.1%) - tense/violence in 218.9s\n",
      "   Est. remaining: 20.5 minutes\n",
      "▶️ Starting task: tense strategy for hate_unfairness risk category\n",
      "▶️ Starting task: tense strategy for sexual risk category\n",
      "▶️ Starting task: tense strategy for self_harm risk category\n",
      "▶️ Starting task: char_swap strategy for violence risk category\n",
      "▶️ Starting task: char_swap strategy for hate_unfairness risk category\n"
     ]
    },
    {
     "name": "stderr",
     "output_type": "stream",
     "text": [
      "Scanning:  56%|█████████████████▎             | 29/52 [22:37<13:23, 34.93s/scan, current=batch 6/11]"
     ]
    },
    {
     "name": "stdout",
     "output_type": "stream",
     "text": [
      "Evaluation results saved to \"C:\\src\\gartner-ai-app-dev-2025\\.scan_Restaurant-Agent-Advanced-Red-Team_20250811_201701\\tense_hate_unfairness_00363ead-e1ee-4b3e-acd9-8f2dd91a6392.json\".\n",
      "\n",
      "✅ Completed task 26/52 (50.0%) - tense/hate_unfairness in 216.6s\n",
      "   Est. remaining: 22.6 minutes\n",
      "Evaluation results saved to \"C:\\src\\gartner-ai-app-dev-2025\\.scan_Restaurant-Agent-Advanced-Red-Team_20250811_201701\\tense_sexual_8c66c763-6b8c-4ddd-90a0-1b7e13035d11.json\".\n",
      "\n",
      "✅ Completed task 27/52 (51.9%) - tense/sexual in 216.6s\n",
      "   Est. remaining: 21.0 minutes\n",
      "Evaluation results saved to \"C:\\src\\gartner-ai-app-dev-2025\\.scan_Restaurant-Agent-Advanced-Red-Team_20250811_201701\\tense_self_harm_69de8940-5257-42f4-a555-7d8321f25249.json\".\n",
      "\n",
      "✅ Completed task 28/52 (53.8%) - tense/self_harm in 216.7s\n",
      "   Est. remaining: 19.4 minutes\n",
      "Evaluation results saved to \"C:\\src\\gartner-ai-app-dev-2025\\.scan_Restaurant-Agent-Advanced-Red-Team_20250811_201701\\char_swap_violence_ddfad82e-c7e7-4c0c-b32c-0117b09ef9bc.json\".\n",
      "\n",
      "✅ Completed task 29/52 (55.8%) - char_swap/violence in 216.7s\n",
      "   Est. remaining: 18.0 minutes\n"
     ]
    },
    {
     "name": "stderr",
     "output_type": "stream",
     "text": [
      "Scanning:  58%|█████████████████▉             | 30/52 [22:42<12:48, 34.93s/scan, current=batch 7/11]"
     ]
    },
    {
     "name": "stdout",
     "output_type": "stream",
     "text": [
      "Evaluation results saved to \"C:\\src\\gartner-ai-app-dev-2025\\.scan_Restaurant-Agent-Advanced-Red-Team_20250811_201701\\char_swap_hate_unfairness_692a38d5-2060-41e1-b321-445149581e6f.json\".\n",
      "\n",
      "✅ Completed task 30/52 (57.7%) - char_swap/hate_unfairness in 221.1s\n",
      "   Est. remaining: 16.7 minutes\n",
      "▶️ Starting task: char_swap strategy for sexual risk category\n",
      "▶️ Starting task: char_swap strategy for self_harm risk category\n",
      "▶️ Starting task: morse strategy for violence risk category\n",
      "▶️ Starting task: morse strategy for hate_unfairness risk category\n",
      "▶️ Starting task: morse strategy for sexual risk category\n"
     ]
    },
    {
     "name": "stderr",
     "output_type": "stream",
     "text": [
      "Scanning:  65%|████████████████████▎          | 34/52 [26:35<16:51, 56.21s/scan, current=batch 7/11]"
     ]
    },
    {
     "name": "stdout",
     "output_type": "stream",
     "text": [
      "Evaluation results saved to \"C:\\src\\gartner-ai-app-dev-2025\\.scan_Restaurant-Agent-Advanced-Red-Team_20250811_201701\\char_swap_sexual_9e803479-0328-4685-9c4a-5f6837e31682.json\".\n",
      "\n",
      "✅ Completed task 31/52 (59.6%) - char_swap/sexual in 232.7s\n",
      "   Est. remaining: 18.0 minutes\n",
      "Evaluation results saved to \"C:\\src\\gartner-ai-app-dev-2025\\.scan_Restaurant-Agent-Advanced-Red-Team_20250811_201701\\char_swap_self_harm_2348a819-48c2-430e-bd26-74902ebc169c.json\".\n",
      "\n",
      "✅ Completed task 32/52 (61.5%) - char_swap/self_harm in 232.7s\n",
      "   Est. remaining: 16.6 minutes\n",
      "Evaluation results saved to \"C:\\src\\gartner-ai-app-dev-2025\\.scan_Restaurant-Agent-Advanced-Red-Team_20250811_201701\\morse_violence_2df2c917-122d-435a-a79c-ee5ddceafd93.json\".\n",
      "\n",
      "✅ Completed task 33/52 (63.5%) - morse/violence in 232.7s\n",
      "   Est. remaining: 15.3 minutes\n",
      "Evaluation results saved to \"C:\\src\\gartner-ai-app-dev-2025\\.scan_Restaurant-Agent-Advanced-Red-Team_20250811_201701\\morse_hate_unfairness_6625e1ba-807f-4f87-9caa-ac10c9fa2779.json\".\n",
      "\n",
      "✅ Completed task 34/52 (65.4%) - morse/hate_unfairness in 232.7s\n",
      "   Est. remaining: 14.1 minutes\n"
     ]
    },
    {
     "name": "stderr",
     "output_type": "stream",
     "text": [
      "Scanning:  67%|████████████████████▊          | 35/52 [26:35<09:13, 32.57s/scan, current=batch 8/11]"
     ]
    },
    {
     "name": "stdout",
     "output_type": "stream",
     "text": [
      "Evaluation results saved to \"C:\\src\\gartner-ai-app-dev-2025\\.scan_Restaurant-Agent-Advanced-Red-Team_20250811_201701\\morse_sexual_f73ddb00-32f5-48be-ac53-0dfdab53ba8a.json\".\n",
      "\n",
      "✅ Completed task 35/52 (67.3%) - morse/sexual in 232.8s\n",
      "   Est. remaining: 12.9 minutes\n",
      "▶️ Starting task: morse strategy for self_harm risk category\n",
      "▶️ Starting task: leetspeak strategy for violence risk category\n",
      "▶️ Starting task: leetspeak strategy for hate_unfairness risk category\n",
      "▶️ Starting task: leetspeak strategy for sexual risk category\n",
      "▶️ Starting task: leetspeak strategy for self_harm risk category\n"
     ]
    },
    {
     "name": "stderr",
     "output_type": "stream",
     "text": [
      "Scanning:  75%|███████████████████████▎       | 39/52 [29:52<08:31, 39.38s/scan, current=batch 8/11]"
     ]
    },
    {
     "name": "stdout",
     "output_type": "stream",
     "text": [
      "Evaluation results saved to \"C:\\src\\gartner-ai-app-dev-2025\\.scan_Restaurant-Agent-Advanced-Red-Team_20250811_201701\\morse_self_harm_f8df3810-4d3b-4f5c-be62-44669f80598b.json\".\n",
      "\n",
      "✅ Completed task 36/52 (69.2%) - morse/self_harm in 197.1s\n",
      "   Est. remaining: 13.3 minutes\n",
      "Evaluation results saved to \"C:\\src\\gartner-ai-app-dev-2025\\.scan_Restaurant-Agent-Advanced-Red-Team_20250811_201701\\leetspeak_violence_bf6ed3b6-7d76-4cc1-a535-d55bc1352d2b.json\".\n",
      "\n",
      "✅ Completed task 37/52 (71.2%) - leetspeak/violence in 197.1s\n",
      "   Est. remaining: 12.1 minutes\n",
      "Evaluation results saved to \"C:\\src\\gartner-ai-app-dev-2025\\.scan_Restaurant-Agent-Advanced-Red-Team_20250811_201701\\leetspeak_hate_unfairness_dcbade34-414e-4526-9b23-2fb87ed3c10e.json\".\n",
      "\n",
      "✅ Completed task 38/52 (73.1%) - leetspeak/hate_unfairness in 197.1s\n",
      "   Est. remaining: 11.0 minutes\n",
      "Evaluation results saved to \"C:\\src\\gartner-ai-app-dev-2025\\.scan_Restaurant-Agent-Advanced-Red-Team_20250811_201701\\leetspeak_sexual_9a774d72-10c3-42f5-a3e7-3e97a767c3fa.json\".\n",
      "\n",
      "✅ Completed task 39/52 (75.0%) - leetspeak/sexual in 197.2s\n",
      "   Est. remaining: 10.0 minutes\n"
     ]
    },
    {
     "name": "stderr",
     "output_type": "stream",
     "text": [
      "Scanning:  77%|███████████████████████▊       | 40/52 [29:56<05:47, 28.98s/scan, current=batch 9/11]"
     ]
    },
    {
     "name": "stdout",
     "output_type": "stream",
     "text": [
      "Evaluation results saved to \"C:\\src\\gartner-ai-app-dev-2025\\.scan_Restaurant-Agent-Advanced-Red-Team_20250811_201701\\leetspeak_self_harm_d94a29ea-470c-4635-8b71-762a10caae73.json\".\n",
      "\n",
      "✅ Completed task 40/52 (76.9%) - leetspeak/self_harm in 201.5s\n",
      "   Est. remaining: 9.0 minutes\n",
      "▶️ Starting task: url strategy for violence risk category\n",
      "▶️ Starting task: url strategy for hate_unfairness risk category\n",
      "▶️ Starting task: url strategy for sexual risk category\n",
      "▶️ Starting task: url strategy for self_harm risk category\n",
      "▶️ Starting task: binary strategy for violence risk category\n"
     ]
    },
    {
     "name": "stderr",
     "output_type": "stream",
     "text": [
      "                                                                                                    \r"
     ]
    },
    {
     "name": "stdout",
     "output_type": "stream",
     "text": [
      "Evaluation results saved to \"C:\\src\\gartner-ai-app-dev-2025\\.scan_Restaurant-Agent-Advanced-Red-Team_20250811_201701\\url_violence_70f7a90c-1980-451e-a689-22f069a565e2.json\".\n",
      "\n",
      "✅ Completed task 41/52 (78.8%) - url/violence in 184.7s\n",
      "   Est. remaining: 8.9 minutes\n",
      "Evaluation results saved to \"C:\\src\\gartner-ai-app-dev-2025\\.scan_Restaurant-Agent-Advanced-Red-Team_20250811_201701\\url_hate_unfairness_3b261c76-87f9-4a23-910b-7b9c8d5d2318.json\".\n",
      "\n",
      "✅ Completed task 42/52 (80.8%) - url/hate_unfairness in 184.7s\n",
      "   Est. remaining: 7.9 minutes\n",
      "Evaluation results saved to \"C:\\src\\gartner-ai-app-dev-2025\\.scan_Restaurant-Agent-Advanced-Red-Team_20250811_201701\\url_sexual_81da29e2-8daf-41dd-b99b-58769f748c48.json\".\n",
      "\n",
      "✅ Completed task 43/52 (82.7%) - url/sexual in 184.8s\n",
      "   Est. remaining: 6.9 minutes\n",
      "Evaluation results saved to \"C:\\src\\gartner-ai-app-dev-2025\\.scan_Restaurant-Agent-Advanced-Red-Team_20250811_201701\\url_self_harm_60cc398d-552f-4b90-830a-223885e6f154.json\".\n",
      "\n",
      "✅ Completed task 44/52 (84.6%) - url/self_harm in 184.8s\n"
     ]
    },
    {
     "name": "stderr",
     "output_type": "stream",
     "text": [
      "Scanning:  85%|██████████████████████████▏    | 44/52 [33:01<04:57, 37.24s/scan, current=batch 9/11]"
     ]
    },
    {
     "name": "stdout",
     "output_type": "stream",
     "text": [
      "   Est. remaining: 6.0 minutes\n"
     ]
    },
    {
     "name": "stderr",
     "output_type": "stream",
     "text": [
      "Scanning:  87%|█████████████████████████▉    | 45/52 [33:06<03:03, 26.18s/scan, current=batch 10/11]"
     ]
    },
    {
     "name": "stdout",
     "output_type": "stream",
     "text": [
      "Evaluation results saved to \"C:\\src\\gartner-ai-app-dev-2025\\.scan_Restaurant-Agent-Advanced-Red-Team_20250811_201701\\binary_violence_5548852f-a14b-4504-8fff-b281fab50263.json\".\n",
      "\n",
      "✅ Completed task 45/52 (86.5%) - binary/violence in 189.1s\n",
      "   Est. remaining: 5.1 minutes\n",
      "▶️ Starting task: binary strategy for hate_unfairness risk category\n",
      "▶️ Starting task: binary strategy for sexual risk category\n",
      "▶️ Starting task: binary strategy for self_harm risk category\n",
      "▶️ Starting task: tense_base64 strategy for violence risk category\n",
      "▶️ Starting task: tense_base64 strategy for hate_unfairness risk category\n"
     ]
    },
    {
     "name": "stderr",
     "output_type": "stream",
     "text": [
      "Scanning:  94%|████████████████████████████▎ | 49/52 [36:26<01:37, 32.59s/scan, current=batch 10/11]"
     ]
    },
    {
     "name": "stdout",
     "output_type": "stream",
     "text": [
      "Evaluation results saved to \"C:\\src\\gartner-ai-app-dev-2025\\.scan_Restaurant-Agent-Advanced-Red-Team_20250811_201701\\binary_hate_unfairness_0d646565-8e79-416f-971b-709b50fe3885.json\".\n",
      "\n",
      "✅ Completed task 46/52 (88.5%) - binary/hate_unfairness in 200.5s\n",
      "   Est. remaining: 4.8 minutes\n",
      "Evaluation results saved to \"C:\\src\\gartner-ai-app-dev-2025\\.scan_Restaurant-Agent-Advanced-Red-Team_20250811_201701\\binary_sexual_f228cdbf-ecc7-4634-844c-9f177c2e9bca.json\".\n",
      "\n",
      "✅ Completed task 47/52 (90.4%) - binary/sexual in 200.5s\n",
      "   Est. remaining: 3.9 minutes\n",
      "Evaluation results saved to \"C:\\src\\gartner-ai-app-dev-2025\\.scan_Restaurant-Agent-Advanced-Red-Team_20250811_201701\\binary_self_harm_5741c310-fe8c-4924-bcda-e795eeb4290f.json\".\n",
      "\n",
      "✅ Completed task 48/52 (92.3%) - binary/self_harm in 200.5s\n",
      "   Est. remaining: 3.0 minutes\n",
      "Evaluation results saved to \"C:\\src\\gartner-ai-app-dev-2025\\.scan_Restaurant-Agent-Advanced-Red-Team_20250811_201701\\tense_base64_violence_219a36b0-0725-40bf-82d1-9887087b6e77.json\".\n",
      "\n",
      "✅ Completed task 49/52 (94.2%) - tense_base64/violence in 200.5s\n",
      "   Est. remaining: 2.2 minutes\n"
     ]
    },
    {
     "name": "stderr",
     "output_type": "stream",
     "text": [
      "Scanning:  96%|████████████████████████████▊ | 50/52 [36:30<01:05, 32.59s/scan, current=batch 11/11]"
     ]
    },
    {
     "name": "stdout",
     "output_type": "stream",
     "text": [
      "Evaluation results saved to \"C:\\src\\gartner-ai-app-dev-2025\\.scan_Restaurant-Agent-Advanced-Red-Team_20250811_201701\\tense_base64_hate_unfairness_6471392e-f1f4-4b14-91ee-88203f38ded6.json\".\n",
      "\n",
      "✅ Completed task 50/52 (96.2%) - tense_base64/hate_unfairness in 204.8s\n",
      "   Est. remaining: 1.5 minutes\n",
      "▶️ Starting task: tense_base64 strategy for sexual risk category\n",
      "▶️ Starting task: tense_base64 strategy for self_harm risk category\n"
     ]
    },
    {
     "name": "stderr",
     "output_type": "stream",
     "text": [
      "Scanning:  98%|█████████████████████████████▍| 51/52 [37:55<00:36, 36.06s/scan, current=batch 11/11]"
     ]
    },
    {
     "name": "stdout",
     "output_type": "stream",
     "text": [
      "Evaluation results saved to \"C:\\src\\gartner-ai-app-dev-2025\\.scan_Restaurant-Agent-Advanced-Red-Team_20250811_201701\\tense_base64_sexual_a86efbf9-c0c9-4c7e-8413-92412cc58b69.json\".\n",
      "\n",
      "✅ Completed task 51/52 (98.1%) - tense_base64/sexual in 84.4s\n",
      "   Est. remaining: 0.7 minutes\n"
     ]
    },
    {
     "name": "stderr",
     "output_type": "stream",
     "text": [
      "Scanning: 100%|██████████████████████████████| 52/52 [38:00<00:00, 43.86s/scan, current=batch 11/11]\n"
     ]
    },
    {
     "name": "stdout",
     "output_type": "stream",
     "text": [
      "Evaluation results saved to \"C:\\src\\gartner-ai-app-dev-2025\\.scan_Restaurant-Agent-Advanced-Red-Team_20250811_201701\\tense_base64_self_harm_d4ff2351-8ca1-4173-a915-4fcda6199a94.json\".\n",
      "\n",
      "✅ Completed task 52/52 (100.0%) - tense_base64/self_harm in 90.0s\n",
      "   Est. remaining: 0.0 minutes\n",
      "Evaluation results saved to \"C:\\src\\gartner-ai-app-dev-2025\\advanced_red_team_results.json\".\n",
      "\n",
      "Evaluation results saved to \"C:\\src\\gartner-ai-app-dev-2025\\.scan_Restaurant-Agent-Advanced-Red-Team_20250811_201701\\final_results.json\".\n",
      "\n",
      "Overall ASR: 0.0%\n",
      "Attack Success: 0/156 attacks were successful\n",
      "------------------------------------------------------------------------------------------------------------------------------------\n",
      "Risk Category     | Baseline ASR   | Easy-Complexity Attacks ASR  | Moderate-Complexity Attacks ASR | Difficult-Complexity Attacks ASR\n",
      "------------------------------------------------------------------------------------------------------------------------------------\n",
      "Violence          | 0.0%           | 0.0%                         | 0.0%                            | 0.0%                          \n",
      "Hate-unfairness   | 0.0%           | 0.0%                         | 0.0%                            | 0.0%                          \n",
      "Sexual            | 0.0%           | 0.0%                         | 0.0%                            | 0.0%                          \n",
      "Self-harm         | 0.0%           | 0.0%                         | 0.0%                            | 0.0%                          \n",
      "\n",
      "Detailed results available at:\n",
      "https://ai.azure.com/resource/build/redteaming/e7bb607a-db55-43ec-91a7-d1de3eb3f20c?wsid=/subscriptions/21039746-6e73-4627-88af-efa80f856c2c/resourceGroups/rg-AIPMaker/providers/Microsoft.CognitiveServices/accounts/aipmaker-project-resource/projects/aipmaker-project&tid=72f988bf-86f1-41af-91ab-2d7cd011db47\n",
      "\n",
      "📂 All scan files saved to: .\\.scan_Restaurant-Agent-Advanced-Red-Team_20250811_201701\n",
      "✅ Scan completed successfully!\n",
      "Advanced red team scan completed!\n",
      "Results saved to: advanced_red_team_results.json\n"
     ]
    }
   ],
   "source": [
    "# Run an advanced red team scan mirroring the sample's strategies\n",
    "print(\"Starting advanced red team scan with comprehensive strategies...\")\n",
    "\n",
    "advanced_result = await red_team.scan(\n",
    "    target=restaurant_agent_callback,\n",
    "    scan_name=\"Restaurant-Agent-Advanced-Red-Team\",\n",
    "    attack_strategies=[\n",
    "        AttackStrategy.Base64,\n",
    "        AttackStrategy.Flip,\n",
    "        AttackStrategy.CharacterSpace,\n",
    "        AttackStrategy.ROT13,\n",
    "        AttackStrategy.UnicodeConfusable,\n",
    "        AttackStrategy.Tense,\n",
    "        AttackStrategy.CharSwap,\n",
    "        AttackStrategy.Morse,\n",
    "        AttackStrategy.Leetspeak,\n",
    "        AttackStrategy.Url,\n",
    "        AttackStrategy.Binary,\n",
    "        AttackStrategy.MODERATE,\n",
    "        AttackStrategy.DIFFICULT,\n",
    "    ],\n",
    "    output_path=\"advanced_red_team_results.json\",\n",
    ")\n",
    "\n",
    "print(\"Advanced red team scan completed!\")\n",
    "print(\"Results saved to: advanced_red_team_results.json\")"
   ]
  },
  {
   "cell_type": "code",
   "execution_count": 10,
   "metadata": {},
   "outputs": [
    {
     "name": "stdout",
     "output_type": "stream",
     "text": [
      "Basic conversations collected: 0\n",
      "Advanced conversations collected: 0\n",
      "Files: basic_red_team_results.json, advanced_red_team_results.json\n"
     ]
    }
   ],
   "source": [
    "# Quick summary of results\n",
    "try:\n",
    "    basic_count = len(basic_result.redteaming_data) if getattr(basic_result, \"redteaming_data\", None) else 0\n",
    "except Exception:\n",
    "    basic_count = 0\n",
    "\n",
    "try:\n",
    "    advanced_count = len(advanced_result.redteaming_data) if getattr(advanced_result, \"redteaming_data\", None) else 0\n",
    "except Exception:\n",
    "    advanced_count = 0\n",
    "\n",
    "print(f\"Basic conversations collected: {basic_count}\")\n",
    "print(f\"Advanced conversations collected: {advanced_count}\")\n",
    "print(\"Files: basic_red_team_results.json, advanced_red_team_results.json\")"
   ]
  }
 ],
 "metadata": {
  "kernelspec": {
   "display_name": ".venv (3.13.6)",
   "language": "python",
   "name": "python3"
  },
  "language_info": {
   "codemirror_mode": {
    "name": "ipython",
    "version": 3
   },
   "file_extension": ".py",
   "mimetype": "text/x-python",
   "name": "python",
   "nbconvert_exporter": "python",
   "pygments_lexer": "ipython3",
   "version": "3.13.6"
  }
 },
 "nbformat": 4,
 "nbformat_minor": 4
}
