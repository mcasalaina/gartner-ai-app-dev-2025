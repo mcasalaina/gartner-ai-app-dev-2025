{
 "cells": [
  {
   "cell_type": "markdown",
   "metadata": {},
   "source": [
    "# Restaurant Agent Red Team Evaluation\n",
    "\n",
    "This notebook performs red team evaluation on the Scheibmeir's restaurant agent to assess its safety and resilience against adversarial attacks.\n",
    "It uses Azure AI Evaluation's Red Team functionality to test the agent across different risk categories."
   ]
  },
  {
   "cell_type": "markdown",
   "metadata": {},
   "source": [
    "## Setup and Configuration"
   ]
  },
  {
   "cell_type": "code",
   "execution_count": 1,
   "metadata": {},
   "outputs": [
    {
     "name": "stdout",
     "output_type": "stream",
     "text": [
      "Libraries imported successfully!\n"
     ]
    }
   ],
   "source": [
    "import os\n",
    "import asyncio\n",
    "from typing import Dict, List, Optional, Any\n",
    "from dotenv import load_dotenv\n",
    "from azure.ai.evaluation.red_team import RedTeam, RiskCategory, AttackStrategy\n",
    "from azure.ai.agents import AgentsClient\n",
    "from azure.identity import DefaultAzureCredential\n",
    "\n",
    "# Load environment variables from .env file\n",
    "load_dotenv()\n",
    "\n",
    "print(\"Libraries imported successfully!\")"
   ]
  },
  {
   "cell_type": "code",
   "execution_count": 2,
   "metadata": {},
   "outputs": [
    {
     "name": "stdout",
     "output_type": "stream",
     "text": [
      "Restaurant Assistant ID: asst_eJv1oQY8pHlj3mgXyV2sLCYG\n",
      "Restaurant Project URL: https://aipmaker-project-resource.services.ai.azure.com/api/projects/aipmaker-project\n"
     ]
    }
   ],
   "source": [
    "# Configuration from environment variables\n",
    "RESTAURANT_ASSISTANT_ID = os.getenv(\"RESTAURANT_ASSISTANT_ID\")\n",
    "RESTAURANT_ASSISTANT_PROJECT = os.getenv(\"RESTAURANT_ASSISTANT_PROJECT\")\n",
    "\n",
    "print(f\"Restaurant Assistant ID: {RESTAURANT_ASSISTANT_ID}\")\n",
    "print(f\"Restaurant Project URL: {RESTAURANT_ASSISTANT_PROJECT}\")"
   ]
  },
  {
   "cell_type": "markdown",
   "metadata": {},
   "source": [
    "## Initialize Clients"
   ]
  },
  {
   "cell_type": "code",
   "execution_count": 3,
   "metadata": {},
   "outputs": [
    {
     "name": "stdout",
     "output_type": "stream",
     "text": [
      "Clients initialized successfully!\n"
     ]
    }
   ],
   "source": [
    "# Initialize Azure credential\n",
    "credential = DefaultAzureCredential()\n",
    "\n",
    "# Initialize the Agents client\n",
    "agents_client = AgentsClient(\n",
    "    endpoint=RESTAURANT_ASSISTANT_PROJECT,\n",
    "    credential=credential\n",
    ")\n",
    "\n",
    "print(\"Clients initialized successfully!\")"
   ]
  },
  {
   "cell_type": "markdown",
   "metadata": {},
   "source": [
    "## Define Target Callback for Red Team Testing\n",
    "\n",
    "This callback function will be used by the Red Team to test the restaurant agent."
   ]
  },
  {
   "cell_type": "code",
   "execution_count": 4,
   "metadata": {},
   "outputs": [
    {
     "name": "stdout",
     "output_type": "stream",
     "text": [
      "Restaurant agent callback function defined!\n"
     ]
    }
   ],
   "source": [
    "async def restaurant_agent_callback(\n",
    "    messages: list,\n",
    "    stream: Optional[bool] = False,\n",
    "    session_state: Optional[str] = None,\n",
    "    context: Optional[Dict[str, Any]] = None,\n",
    ") -> Dict[str, List[Dict[str, str]]]:\n",
    "    \"\"\"\n",
    "    Callback function that interfaces with the restaurant agent.\n",
    "    This function will be called by the Red Team evaluation framework.\n",
    "    \"\"\"\n",
    "    try:\n",
    "        # Extract the latest message from the conversation history\n",
    "        latest_message = messages[-1].content if messages else \"Hello\"\n",
    "        \n",
    "        # Create a thread and run in one step\n",
    "        result = agents_client.create_thread_and_process_run(\n",
    "            agent_id=RESTAURANT_ASSISTANT_ID,\n",
    "            thread={\n",
    "                \"messages\": [\n",
    "                    {\n",
    "                        \"role\": \"user\",\n",
    "                        \"content\": latest_message\n",
    "                    }\n",
    "                ]\n",
    "            }\n",
    "        )\n",
    "        \n",
    "        if result.status.value == \"completed\":\n",
    "            # Get messages from the thread\n",
    "            agent_messages = agents_client.messages.list(thread_id=result.thread_id)\n",
    "            \n",
    "            # Find the agent's response\n",
    "            for msg in agent_messages:\n",
    "                if msg.role.value == \"agent\":\n",
    "                    formatted_response = {\n",
    "                        \"content\": msg.content[0].text.value,\n",
    "                        \"role\": \"assistant\"\n",
    "                    }\n",
    "                    return {\"messages\": [formatted_response]}\n",
    "        \n",
    "        # If no agent response found or run failed\n",
    "        error_response = {\n",
    "            \"content\": f\"I encountered an error processing your request. Status: {result.status.value}\",\n",
    "            \"role\": \"assistant\"\n",
    "        }\n",
    "        return {\"messages\": [error_response]}\n",
    "        \n",
    "    except Exception as e:\n",
    "        error_response = {\n",
    "            \"content\": f\"I encountered an error and couldn't process your request: {str(e)}\",\n",
    "            \"role\": \"assistant\"\n",
    "        }\n",
    "        return {\"messages\": [error_response]}\n",
    "\n",
    "print(\"Restaurant agent callback function defined!\")"
   ]
  },
  {
   "cell_type": "markdown",
   "metadata": {},
   "source": [
    "## Initialize Red Team Evaluator"
   ]
  },
  {
   "cell_type": "code",
   "execution_count": null,
   "metadata": {},
   "outputs": [
    {
     "name": "stderr",
     "output_type": "stream",
     "text": [
      "Class RedTeam: This is an experimental class, and may change at any time. Please see https://aka.ms/azuremlexperimental for more information.\n"
     ]
    },
    {
     "name": "stdout",
     "output_type": "stream",
     "text": [
      "Red Team evaluator initialized!\n"
     ]
    },
    {
     "ename": "AttributeError",
     "evalue": "'RedTeam' object has no attribute '_risk_categories'",
     "output_type": "error",
     "traceback": [
      "\u001b[31m---------------------------------------------------------------------------\u001b[39m",
      "\u001b[31mAttributeError\u001b[39m                            Traceback (most recent call last)",
      "\u001b[36mCell\u001b[39m\u001b[36m \u001b[39m\u001b[32mIn[5]\u001b[39m\u001b[32m, line 18\u001b[39m\n\u001b[32m      5\u001b[39m red_team = RedTeam(\n\u001b[32m      6\u001b[39m     azure_ai_project=azure_ai_project,\n\u001b[32m      7\u001b[39m     credential=credential,\n\u001b[32m   (...)\u001b[39m\u001b[32m     14\u001b[39m     num_objectives=\u001b[32m3\u001b[39m,  \u001b[38;5;66;03m# Number of attack objectives per risk category\u001b[39;00m\n\u001b[32m     15\u001b[39m )\n\u001b[32m     17\u001b[39m \u001b[38;5;28mprint\u001b[39m(\u001b[33m\"\u001b[39m\u001b[33mRed Team evaluator initialized!\u001b[39m\u001b[33m\"\u001b[39m)\n\u001b[32m---> \u001b[39m\u001b[32m18\u001b[39m \u001b[38;5;28mprint\u001b[39m(\u001b[33mf\u001b[39m\u001b[33m\"\u001b[39m\u001b[33mRisk categories: \u001b[39m\u001b[38;5;132;01m{\u001b[39;00m[cat.value\u001b[38;5;250m \u001b[39m\u001b[38;5;28;01mfor\u001b[39;00m\u001b[38;5;250m \u001b[39mcat\u001b[38;5;250m \u001b[39m\u001b[38;5;129;01min\u001b[39;00m\u001b[38;5;250m \u001b[39m\u001b[43mred_team\u001b[49m\u001b[43m.\u001b[49m\u001b[43m_risk_categories\u001b[49m]\u001b[38;5;132;01m}\u001b[39;00m\u001b[33m\"\u001b[39m)\n\u001b[32m     19\u001b[39m \u001b[38;5;28mprint\u001b[39m(\u001b[33mf\u001b[39m\u001b[33m\"\u001b[39m\u001b[33mNumber of objectives per category: \u001b[39m\u001b[38;5;132;01m{\u001b[39;00mred_team._num_objectives\u001b[38;5;132;01m}\u001b[39;00m\u001b[33m\"\u001b[39m)\n",
      "\u001b[31mAttributeError\u001b[39m: 'RedTeam' object has no attribute '_risk_categories'"
     ]
    }
   ],
   "source": [
    "# Azure AI project endpoint for red team\n",
    "azure_ai_project = RESTAURANT_ASSISTANT_PROJECT\n",
    "\n",
    "# Create the RedTeam instance with specific risk categories relevant to a restaurant agent\n",
    "red_team = RedTeam(\n",
    "    azure_ai_project=azure_ai_project,\n",
    "    credential=credential,\n",
    "    risk_categories=[\n",
    "        RiskCategory.Violence,\n",
    "        RiskCategory.HateUnfairness,\n",
    "        RiskCategory.Sexual,\n",
    "        RiskCategory.SelfHarm\n",
    "    ],\n",
    "    num_objectives=3,  # Number of attack objectives per risk category\n",
    ")\n",
    "\n",
    "print(\"Red Team evaluator initialized!\")\n",
    "#print(f\"Risk categories: {[cat.value for cat in red_team._risk_categories]}\")\n",
    "#print(f\"Number of objectives per category: {red_team._num_objectives}\")"
   ]
  },
  {
   "cell_type": "markdown",
   "metadata": {},
   "source": [
    "## Run Basic Red Team Scan\n",
    "\n",
    "This performs a basic red team evaluation using simple attack strategies."
   ]
  },
  {
   "cell_type": "code",
   "execution_count": null,
   "metadata": {},
   "outputs": [],
   "source": [
    "# Run a basic red team scan\n",
    "print(\"Starting basic red team scan...\")\n",
    "print(\"This may take several minutes to complete.\")\n",
    "\n",
    "basic_result = await red_team.scan(\n",
    "    target=restaurant_agent_callback,\n",
    "    scan_name=\"Restaurant-Agent-Basic-Red-Team\",\n",
    "    # Baseline attack strategy only (baseline is included by default)\n",
    "    output_path=\"basic_red_team_results.json\",\n",
    ")\n",
    "\n",
    "print(\"Basic red team scan completed!\")\n",
    "print(\"Results saved to: basic_red_team_results.json\")"
   ]
  },
  {
   "cell_type": "markdown",
   "metadata": {},
   "source": [
    "## Run Advanced Red Team Scan\n",
    "\n",
    "This performs a more comprehensive red team evaluation with multiple attack strategies."
   ]
  },
  {
   "cell_type": "code",
   "execution_count": null,
   "metadata": {},
   "outputs": [],
   "source": [
    "# Run an advanced red team scan mirroring the sample's strategies\n",
    "print(\"Starting advanced red team scan with comprehensive strategies...\")\n",
    "\n",
    "advanced_result = await red_team.scan(\n",
    "    target=restaurant_agent_callback,\n",
    "    scan_name=\"Restaurant-Agent-Advanced-Red-Team\",\n",
    "    attack_strategies=[\n",
    "        AttackStrategy.Base64,\n",
    "        AttackStrategy.Flip,\n",
    "        AttackStrategy.CharacterSpace,\n",
    "        AttackStrategy.ROT13,\n",
    "        AttackStrategy.UnicodeConfusable,\n",
    "        AttackStrategy.Tense,\n",
    "        AttackStrategy.CharSwap,\n",
    "        AttackStrategy.Morse,\n",
    "        AttackStrategy.Leetspeak,\n",
    "        AttackStrategy.Url,\n",
    "        AttackStrategy.Binary,\n",
    "        AttackStrategy.MODERATE,\n",
    "        AttackStrategy.DIFFICULT,\n",
    "    ],\n",
    "    output_path=\"advanced_red_team_results.json\",\n",
    ")\n",
    "\n",
    "print(\"Advanced red team scan completed!\")\n",
    "print(\"Results saved to: advanced_red_team_results.json\")"
   ]
  },
  {
   "cell_type": "code",
   "execution_count": null,
   "metadata": {},
   "outputs": [],
   "source": [
    "# Quick summary of results\n",
    "try:\n",
    "    basic_count = len(basic_result.redteaming_data) if getattr(basic_result, \"redteaming_data\", None) else 0\n",
    "except Exception:\n",
    "    basic_count = 0\n",
    "\n",
    "try:\n",
    "    advanced_count = len(advanced_result.redteaming_data) if getattr(advanced_result, \"redteaming_data\", None) else 0\n",
    "except Exception:\n",
    "    advanced_count = 0\n",
    "\n",
    "print(f\"Basic conversations collected: {basic_count}\")\n",
    "print(f\"Advanced conversations collected: {advanced_count}\")\n",
    "print(\"Files: basic_red_team_results.json, advanced_red_team_results.json\")"
   ]
  }
 ],
 "metadata": {
  "kernelspec": {
   "display_name": ".venv (3.13.6)",
   "language": "python",
   "name": "python3"
  },
  "language_info": {
   "codemirror_mode": {
    "name": "ipython",
    "version": 3
   },
   "file_extension": ".py",
   "mimetype": "text/x-python",
   "name": "python",
   "nbconvert_exporter": "python",
   "pygments_lexer": "ipython3",
   "version": "3.13.6"
  }
 },
 "nbformat": 4,
 "nbformat_minor": 4
}
