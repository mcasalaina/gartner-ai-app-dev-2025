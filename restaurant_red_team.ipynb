{
 "cells": [
  {
   "cell_type": "markdown",
   "metadata": {},
   "source": [
    "# Restaurant Agent Red Team Evaluation\n",
    "\n",
    "This notebook performs red team evaluation on the Scheibmeir's restaurant agent to assess its safety and resilience against adversarial attacks.\n",
    "It uses Azure AI Evaluation's Red Team functionality to test the agent across different risk categories."
   ]
  },
  {
   "cell_type": "markdown",
   "metadata": {},
   "source": [
    "## Setup and Configuration"
   ]
  },
  {
   "cell_type": "code",
   "execution_count": null,
   "metadata": {},
   "outputs": [],
   "source": [
    "import os\n",
    "import asyncio\n",
    "from typing import Dict, List, Optional, Any\n",
    "from dotenv import load_dotenv\n",
    "from azure.ai.evaluation.red_team import RedTeam, RiskCategory, AttackStrategy\n",
    "from azure.ai.agents import AgentsClient\n",
    "from azure.identity import DefaultAzureCredential\n",
    "\n",
    "# Load environment variables from .env file\n",
    "load_dotenv()\n",
    "\n",
    "print(\"Libraries imported successfully!\")"
   ]
  },
  {
   "cell_type": "code",
   "execution_count": null,
   "metadata": {},
   "outputs": [],
   "source": [
    "# Configuration from environment variables\n",
    "RESTAURANT_ASSISTANT_ID = os.getenv(\"RESTAURANT_ASSISTANT_ID\")\n",
    "RESTAURANT_ASSISTANT_PROJECT = os.getenv(\"RESTAURANT_ASSISTANT_PROJECT\")\n",
    "\n",
    "# Azure AI project configuration\n",
    "AZURE_SUBSCRIPTION_ID = os.getenv(\"AZURE_SUBSCRIPTION_ID\")\n",
    "AZURE_RESOURCE_GROUP_NAME = os.getenv(\"AZURE_RESOURCE_GROUP_NAME\")\n",
    "AZURE_PROJECT_NAME = os.getenv(\"AZURE_PROJECT_NAME\")\n",
    "\n",
    "print(f\"Restaurant Assistant ID: {RESTAURANT_ASSISTANT_ID}\")\n",
    "print(f\"Restaurant Project URL: {RESTAURANT_ASSISTANT_PROJECT}\")\n",
    "print(f\"Azure Project: {AZURE_PROJECT_NAME}\")"
   ]
  },
  {
   "cell_type": "markdown",
   "metadata": {},
   "source": [
    "## Initialize Clients"
   ]
  },
  {
   "cell_type": "code",
   "execution_count": null,
   "metadata": {},
   "outputs": [],
   "source": [
    "# Initialize Azure credential\n",
    "credential = DefaultAzureCredential()\n",
    "\n",
    "# Initialize the Agents client\n",
    "agents_client = AgentsClient(\n",
    "    endpoint=RESTAURANT_ASSISTANT_PROJECT,\n",
    "    credential=credential\n",
    ")\n",
    "\n",
    "print(\"Clients initialized successfully!\")"
   ]
  },
  {
   "cell_type": "markdown",
   "metadata": {},
   "source": [
    "## Define Target Callback for Red Team Testing\n",
    "\n",
    "This callback function will be used by the Red Team to test the restaurant agent."
   ]
  },
  {
   "cell_type": "code",
   "execution_count": null,
   "metadata": {},
   "outputs": [],
   "source": [
    "async def restaurant_agent_callback(\n",
    "    messages: list,\n",
    "    stream: Optional[bool] = False,\n",
    "    session_state: Optional[str] = None,\n",
    "    context: Optional[Dict[str, Any]] = None,\n",
    ") -> Dict[str, List[Dict[str, str]]]:\n",
    "    \"\"\"\n",
    "    Callback function that interfaces with the restaurant agent.\n",
    "    This function will be called by the Red Team evaluation framework.\n",
    "    \"\"\"\n",
    "    try:\n",
    "        # Extract the latest message from the conversation history\n",
    "        latest_message = messages[-1].content if messages else \"Hello\"\n",
    "        \n",
    "        # Create a thread and run in one step\n",
    "        result = agents_client.create_thread_and_process_run(\n",
    "            agent_id=RESTAURANT_ASSISTANT_ID,\n",
    "            thread={\n",
    "                \"messages\": [\n",
    "                    {\n",
    "                        \"role\": \"user\",\n",
    "                        \"content\": latest_message\n",
    "                    }\n",
    "                ]\n",
    "            }\n",
    "        )\n",
    "        \n",
    "        if result.status.value == \"completed\":\n",
    "            # Get messages from the thread\n",
    "            agent_messages = agents_client.messages.list(thread_id=result.thread_id)\n",
    "            \n",
    "            # Find the agent's response\n",
    "            for msg in agent_messages:\n",
    "                if msg.role.value == \"agent\":\n",
    "                    formatted_response = {\n",
    "                        \"content\": msg.content[0].text.value,\n",
    "                        \"role\": \"assistant\"\n",
    "                    }\n",
    "                    return {\"messages\": [formatted_response]}\n",
    "        \n",
    "        # If no agent response found or run failed\n",
    "        error_response = {\n",
    "            \"content\": f\"I encountered an error processing your request. Status: {result.status.value}\",\n",
    "            \"role\": \"assistant\"\n",
    "        }\n",
    "        return {\"messages\": [error_response]}\n",
    "        \n",
    "    except Exception as e:\n",
    "        error_response = {\n",
    "            \"content\": f\"I encountered an error and couldn't process your request: {str(e)}\",\n",
    "            \"role\": \"assistant\"\n",
    "        }\n",
    "        return {\"messages\": [error_response]}\n",
    "\n",
    "print(\"Restaurant agent callback function defined!\")"
   ]
  },
  {
   "cell_type": "markdown",
   "metadata": {},
   "source": [
    "## Initialize Red Team Evaluator"
   ]
  },
  {
   "cell_type": "code",
   "execution_count": null,
   "metadata": {},
   "outputs": [],
   "source": [
    "# Azure AI project endpoint for red team\n",
    "azure_ai_project = RESTAURANT_ASSISTANT_PROJECT\n",
    "\n",
    "# Create the RedTeam instance with specific risk categories relevant to a restaurant agent\n",
    "red_team = RedTeam(\n",
    "    azure_ai_project=azure_ai_project,\n",
    "    credential=credential,\n",
    "    risk_categories=[\n",
    "        RiskCategory.Violence,\n",
    "        RiskCategory.HateUnfairness,\n",
    "        RiskCategory.Sexual,\n",
    "        RiskCategory.SelfHarm\n",
    "    ],\n",
    "    num_objectives=3,  # Number of attack objectives per risk category\n",
    ")\n",
    "\n",
    "print(\"Red Team evaluator initialized!\")\n",
    "print(f\"Risk categories: {[cat.value for cat in red_team._risk_categories]}\")\n",
    "print(f\"Number of objectives per category: {red_team._num_objectives}\")"
   ]
  },
  {
   "cell_type": "markdown",
   "metadata": {},
   "source": [
    "## Run Basic Red Team Scan\n",
    "\n",
    "This performs a basic red team evaluation using simple attack strategies."
   ]
  },
  {
   "cell_type": "code",
   "execution_count": null,
   "metadata": {},
   "outputs": [],
   "source": [
    "# Run a basic red team scan\n",
    "print(\"Starting basic red team scan...\")\n",
    "print(\"This may take several minutes to complete.\")\n",
    "\n",
    "basic_result = await red_team.scan(\n",
    "    target=restaurant_agent_callback,\n",
    "    scan_name=\"Restaurant-Agent-Basic-Red-Team\",\n",
    "    attack_strategies=[\n",
    "        AttackStrategy.EASY,  # Group of easy complexity attacks\n",
    "        AttackStrategy.CharacterSpace,  # Add character spaces\n",
    "        AttackStrategy.Leetspeak,  # Use Leetspeak\n",
    "    ],\n",
    "    output_path=\"basic_red_team_results.json\",\n",
    ")\n",
    "\n",
    "print(\"Basic red team scan completed!\")\n",
    "print(f\"Results saved to: basic_red_team_results.json\")"
   ]
  },
  {
   "cell_type": "markdown",
   "metadata": {},
   "source": [
    "## Run Advanced Red Team Scan\n",
    "\n",
    "This performs a more comprehensive red team evaluation with multiple attack strategies."
   ]
  },
  {
   "cell_type": "code",
   "execution_count": null,
   "metadata": {},
   "outputs": [],
   "source": [
    "# Analyze the red team test results\n",
    "print(\"Red Team Evaluation Results:\")\n",
    "print(\"=\" * 50)\n",
    "\n",
    "safe_responses = sum(1 for r in results if r[\"safe\"])\n",
    "total_tests = len(results)\n",
    "\n",
    "print(f\"Total adversarial tests: {total_tests}\")\n",
    "print(f\"Safe responses: {safe_responses}\")\n",
    "print(f\"Safety rate: {(safe_responses/total_tests)*100:.1f}%\")\n",
    "\n",
    "print(\"\\nDetailed Results:\")\n",
    "for i, result in enumerate(results, 1):\n",
    "    status = \"✓ SAFE\" if result[\"safe\"] else \"⚠ REVIEW\"\n",
    "    print(f\"\\n{i}. {status}\")\n",
    "    print(f\"   Scenario: {result['scenario']}\")\n",
    "    print(f\"   Response: {result['response'][:150]}...\")\n",
    "\n",
    "print(\"\\n\" + \"=\" * 50)\n",
    "print(\"Red team evaluation completed!\")\n",
    "print(\"Note: This is a basic demonstration. Production red teaming should use\")\n",
    "print(\"the full Azure AI Red Team evaluation framework with comprehensive\")\n",
    "print(\"risk categories and automated attack strategies.\")"
   ]
  }
 ],
 "metadata": {
  "kernelspec": {
   "display_name": "venv (3.13.5)",
   "language": "python",
   "name": "python3"
  },
  "language_info": {
   "codemirror_mode": {
    "name": "ipython",
    "version": 3
   },
   "file_extension": ".py",
   "mimetype": "text/x-python",
   "name": "python",
   "nbconvert_exporter": "python",
   "pygments_lexer": "ipython3",
   "version": "3.13.5"
  }
 },
 "nbformat": 4,
 "nbformat_minor": 4
}
